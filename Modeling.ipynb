{
 "cells": [
  {
   "cell_type": "markdown",
   "id": "0d7b0603",
   "metadata": {},
   "source": [
    "# Modeling"
   ]
  },
  {
   "cell_type": "code",
   "execution_count": 1,
   "id": "49cec2ac",
   "metadata": {},
   "outputs": [],
   "source": [
    "import pandas as pd\n",
    "import numpy as np \n",
    "import seaborn as sns\n",
    "import matplotlib.pyplot as plt\n",
    "from sklearn.metrics import accuracy_score, precision_score, recall_score, f1_score\n",
    "from sklearn.metrics import roc_curve, auc\n",
    "from sklearn.model_selection import RepeatedStratifiedKFold, cross_val_score\n",
    "from sklearn.tree import DecisionTreeClassifier\n",
    "from sklearn.neighbors import KNeighborsClassifier\n",
    "from sklearn.ensemble import RandomForestClassifier\n",
    "from sklearn.linear_model import LogisticRegression\n",
    "from sklearn.metrics import ConfusionMatrixDisplay\n",
    "from sklearn.model_selection import RandomizedSearchCV\n",
    "from sklearn import preprocessing\n",
    "from sklearn.preprocessing import StandardScaler\n",
    "import shap\n",
    "import warnings\n",
    "warnings.filterwarnings(\"ignore\")\n",
    "pd.set_option('display.max_columns', None)\n",
    "pd.set_option('display.max_rows', None)"
   ]
  },
  {
   "cell_type": "code",
   "execution_count": 10,
   "id": "1ad9716a",
   "metadata": {},
   "outputs": [],
   "source": [
    "def eval_classification(model, pred, xtrain, ytrain, xtest, ytest):\n",
    "    print(\"Accuracy (Train Set): %.2f\" % model.score(xtrain, ytrain))\n",
    "    print(\"Accuracy (Test Set): %.2f\" % accuracy_score(ytest, pred))\n",
    "    print(\"\\nPrecision (Test Set): %.2f\" % precision_score(ytest, pred))\n",
    "    print(\"Recall (Test Set): %.2f\" % recall_score(ytest, pred))\n",
    "    print(\"F1-Score (Test Set): %.2f\" % f1_score(ytest, pred))\n",
    "\n",
    "    fpr, tpr, thresholds = roc_curve(ytest, pred, pos_label=1)\n",
    "    print(\"AUC: %.2f\" % auc(fpr, tpr))\n",
    "    \n",
    "cv = RepeatedStratifiedKFold(n_splits=5, n_repeats=3, random_state=1)"
   ]
  },
  {
   "cell_type": "markdown",
   "id": "2897ac13",
   "metadata": {},
   "source": [
    "## Modeling Experiment 1: Without Standardization"
   ]
  },
  {
   "cell_type": "markdown",
   "id": "9edff519",
   "metadata": {},
   "source": [
    "### Logistic Regression"
   ]
  },
  {
   "cell_type": "code",
   "execution_count": 23,
   "id": "33dfcd77",
   "metadata": {},
   "outputs": [
    {
     "data": {
      "text/plain": [
       "0.7599270833333333"
      ]
     },
     "execution_count": 23,
     "metadata": {},
     "output_type": "execute_result"
    }
   ],
   "source": [
    "model_lr = LogisticRegression(max_iter=1000, random_state=0)\n",
    "\n",
    "scores = cross_val_score(model_lr, X_train, y_train, scoring = 'roc_auc', cv = cv)\n",
    "scores.mean()"
   ]
  },
  {
   "cell_type": "code",
   "execution_count": 24,
   "id": "33d6c2ff",
   "metadata": {},
   "outputs": [
    {
     "data": {
      "text/plain": [
       "<sklearn.metrics._plot.confusion_matrix.ConfusionMatrixDisplay at 0x1e725a5bd00>"
      ]
     },
     "execution_count": 24,
     "metadata": {},
     "output_type": "execute_result"
    },
    {
     "data": {
      "image/png": "[encoded data removed]",
      "text/plain": [
       "<Figure size 432x288 with 2 Axes>"
      ]
     },
     "metadata": {
      "needs_background": "light"
     },
     "output_type": "display_data"
    }
   ],
   "source": [
    "model_lr.fit(X_train, y_train)\n",
    "\n",
    "y_pred_val = model_lr.predict(X_val)\n",
    "ConfusionMatrixDisplay.from_predictions(y_val, y_pred_val)"
   ]
  },
  {
   "cell_type": "code",
   "execution_count": 22,
   "id": "d094a9fd",
   "metadata": {},
   "outputs": [
    {
     "name": "stdout",
     "output_type": "stream",
     "text": [
      "Accuracy (Train Set): 0.50\n",
      "Accuracy (Test Set): 0.50\n",
      "\n",
      "Precision (Test Set): 0.00\n",
      "Recall (Test Set): 0.00\n",
      "F1-Score (Test Set): 0.00\n",
      "AUC: 0.50\n"
     ]
    }
   ],
   "source": [
    "eval_classification(model_lr, y_pred_val, X_train, y_train, X_val, y_val)"
   ]
  },
  {
   "cell_type": "markdown",
   "id": "62f72eda",
   "metadata": {},
   "source": [
    "#### Hyperparameter Tuning"
   ]
  },
  {
   "cell_type": "code",
   "execution_count": 46,
   "id": "3f165e25",
   "metadata": {},
   "outputs": [
    {
     "data": {
      "text/plain": [
       "<sklearn.metrics._plot.confusion_matrix.ConfusionMatrixDisplay at 0x1e728227b80>"
      ]
     },
     "execution_count": 46,
     "metadata": {},
     "output_type": "execute_result"
    },
    {
     "data": {
      "image/png": "[encoded data removed]",
      "text/plain": [
       "<Figure size 432x288 with 2 Axes>"
      ]
     },
     "metadata": {
      "needs_background": "light"
     },
     "output_type": "display_data"
    }
   ],
   "source": [
    "hyperparameters = dict(penalty = ['l2','l1','elasticnet','none'],\n",
    "                       C = [0.0001, 0.001, 0.002],\n",
    "                       solver=['newton-cg', 'lbfgs','liblinear', 'sag', 'saga'])\n",
    "\n",
    "model_lr_tuned = RandomizedSearchCV(model_lr, hyperparameters, cv=cv, random_state=0, scoring='roc_auc')\n",
    "model_lr_tuned.fit(X_train, y_train)\n",
    "\n",
    "y_pred_val = model_lr_tuned.predict(X_val)\n",
    "ConfusionMatrixDisplay.from_predictions(y_val, y_pred_val)"
   ]
  },
  {
   "cell_type": "code",
   "execution_count": 47,
   "id": "886cc598",
   "metadata": {},
   "outputs": [
    {
     "name": "stdout",
     "output_type": "stream",
     "text": [
      "Accuracy (Train Set): 0.99\n",
      "Accuracy (Test Set): 0.97\n",
      "\n",
      "Precision (Test Set): 0.99\n",
      "Recall (Test Set): 0.96\n",
      "F1-Score (Test Set): 0.97\n",
      "AUC: 0.97\n"
     ]
    }
   ],
   "source": [
    "eval_classification(model_lr_tuned, y_pred_val, X_train, y_train, X_val, y_val)"
   ]
  },
  {
   "cell_type": "code",
   "execution_count": 48,
   "id": "fd470fe1",
   "metadata": {},
   "outputs": [
    {
     "data": {
      "text/plain": [
       "{'C': 0.002,\n",
       " 'class_weight': None,\n",
       " 'dual': False,\n",
       " 'fit_intercept': True,\n",
       " 'intercept_scaling': 1,\n",
       " 'l1_ratio': None,\n",
       " 'max_iter': 1000,\n",
       " 'multi_class': 'auto',\n",
       " 'n_jobs': None,\n",
       " 'penalty': 'l2',\n",
       " 'random_state': None,\n",
       " 'solver': 'newton-cg',\n",
       " 'tol': 0.0001,\n",
       " 'verbose': 0,\n",
       " 'warm_start': False}"
      ]
     },
     "execution_count": 48,
     "metadata": {},
     "output_type": "execute_result"
    }
   ],
   "source": [
    "model_lr_tuned.best_estimator_.get_params()"
   ]
  },
  {
   "cell_type": "markdown",
   "id": "e6e0b554",
   "metadata": {},
   "source": [
    "### Decision Tree"
   ]
  },
  {
   "cell_type": "code",
   "execution_count": 29,
   "id": "fa48952c",
   "metadata": {},
   "outputs": [
    {
     "data": {
      "text/plain": [
       "0.9320833333333333"
      ]
     },
     "execution_count": 29,
     "metadata": {},
     "output_type": "execute_result"
    }
   ],
   "source": [
    "model_dt = DecisionTreeClassifier(random_state=0)\n",
    "scores = cross_val_score(model_dt, X_train, y_train, cv=cv, scoring='roc_auc')\n",
    "scores.mean()"
   ]
  },
  {
   "cell_type": "code",
   "execution_count": 30,
   "id": "df5fa1ca",
   "metadata": {},
   "outputs": [
    {
     "data": {
      "text/plain": [
       "<sklearn.metrics._plot.confusion_matrix.ConfusionMatrixDisplay at 0x1e727ddd1f0>"
      ]
     },
     "execution_count": 30,
     "metadata": {},
     "output_type": "execute_result"
    },
    {
     "data": {
      "image/png": "[encoded data removed]",
      "text/plain": [
       "<Figure size 432x288 with 2 Axes>"
      ]
     },
     "metadata": {
      "needs_background": "light"
     },
     "output_type": "display_data"
    }
   ],
   "source": [
    "model_dt.fit(X_train, y_train)\n",
    "\n",
    "y_pred_val = model_dt.predict(X_val)\n",
    "ConfusionMatrixDisplay.from_predictions(y_val, y_pred_val)"
   ]
  },
  {
   "cell_type": "code",
   "execution_count": 31,
   "id": "dbc12212",
   "metadata": {},
   "outputs": [
    {
     "name": "stdout",
     "output_type": "stream",
     "text": [
      "Accuracy (Train Set): 1.00\n",
      "Accuracy (Test Set): 0.94\n",
      "\n",
      "Precision (Test Set): 0.92\n",
      "Recall (Test Set): 0.96\n",
      "F1-Score (Test Set): 0.94\n",
      "AUC: 0.94\n"
     ]
    }
   ],
   "source": [
    "eval_classification(model_dt, y_pred_val, X_train, y_train, X_val, y_val)"
   ]
  },
  {
   "cell_type": "markdown",
   "id": "b17ec9be",
   "metadata": {},
   "source": [
    "#### Hyperparameter Tuning"
   ]
  },
  {
   "cell_type": "code",
   "execution_count": 50,
   "id": "8ec2824c",
   "metadata": {},
   "outputs": [
    {
     "name": "stdout",
     "output_type": "stream",
     "text": [
      "Wall time: 718 ms\n"
     ]
    },
    {
     "data": {
      "text/plain": [
       "<sklearn.metrics._plot.confusion_matrix.ConfusionMatrixDisplay at 0x1e728348820>"
      ]
     },
     "execution_count": 50,
     "metadata": {},
     "output_type": "execute_result"
    },
    {
     "data": {
      "image/png": "[encoded data removed]",
      "text/plain": [
       "<Figure size 432x288 with 2 Axes>"
      ]
     },
     "metadata": {
      "needs_background": "light"
     },
     "output_type": "display_data"
    }
   ],
   "source": [
    "%%time\n",
    "hyperparameters = dict(max_depth=[3,4,5], \n",
    "                       min_samples_split=[10, 20,30, 40, 50, 75, 100], \n",
    "                       min_samples_leaf=[10, 20,30, 40, 50],\n",
    "                       max_features=['auto', 'sqrt'],\n",
    "                       criterion = ['gini','entropy'])\n",
    "\n",
    "model_dt_tuned = RandomizedSearchCV(model_dt, hyperparameters, cv=cv, random_state=0, scoring='roc_auc')\n",
    "model_dt_tuned.fit(X_train, y_train)\n",
    "\n",
    "y_pred_val = model_dt_tuned.predict(X_val)\n",
    "ConfusionMatrixDisplay.from_predictions(y_val, y_pred_val)"
   ]
  },
  {
   "cell_type": "code",
   "execution_count": 51,
   "id": "b27c4d43",
   "metadata": {},
   "outputs": [
    {
     "name": "stdout",
     "output_type": "stream",
     "text": [
      "Accuracy (Train Set): 0.96\n",
      "Accuracy (Test Set): 0.93\n",
      "\n",
      "Precision (Test Set): 0.90\n",
      "Recall (Test Set): 0.96\n",
      "F1-Score (Test Set): 0.93\n",
      "AUC: 0.92\n"
     ]
    }
   ],
   "source": [
    "eval_classification(model_dt_tuned, y_pred_val, X_train, y_train, X_val, y_val)"
   ]
  },
  {
   "cell_type": "code",
   "execution_count": 52,
   "id": "9a2375ec",
   "metadata": {},
   "outputs": [
    {
     "data": {
      "text/plain": [
       "{'ccp_alpha': 0.0,\n",
       " 'class_weight': None,\n",
       " 'criterion': 'entropy',\n",
       " 'max_depth': 3,\n",
       " 'max_features': 'sqrt',\n",
       " 'max_leaf_nodes': None,\n",
       " 'min_impurity_decrease': 0.0,\n",
       " 'min_samples_leaf': 30,\n",
       " 'min_samples_split': 50,\n",
       " 'min_weight_fraction_leaf': 0.0,\n",
       " 'random_state': 0,\n",
       " 'splitter': 'best'}"
      ]
     },
     "execution_count": 52,
     "metadata": {},
     "output_type": "execute_result"
    }
   ],
   "source": [
    "model_dt_tuned.best_estimator_.get_params()"
   ]
  },
  {
   "cell_type": "markdown",
   "id": "bbf6bc51",
   "metadata": {},
   "source": [
    "### Random Forest"
   ]
  },
  {
   "cell_type": "code",
   "execution_count": 41,
   "id": "0be543d4",
   "metadata": {},
   "outputs": [
    {
     "data": {
      "text/plain": [
       "0.9320833333333333"
      ]
     },
     "execution_count": 41,
     "metadata": {},
     "output_type": "execute_result"
    }
   ],
   "source": [
    "model_rf = RandomForestClassifier(random_state=0)\n",
    "scores = cross_val_score(model_dt, X_train, y_train, cv=cv, scoring='roc_auc')\n",
    "scores.mean()"
   ]
  },
  {
   "cell_type": "code",
   "execution_count": 42,
   "id": "85d8053d",
   "metadata": {},
   "outputs": [
    {
     "data": {
      "text/plain": [
       "<sklearn.metrics._plot.confusion_matrix.ConfusionMatrixDisplay at 0x1e7280cfb80>"
      ]
     },
     "execution_count": 42,
     "metadata": {},
     "output_type": "execute_result"
    },
    {
     "data": {
      "image/png": "[encoded data removed]",
      "text/plain": [
       "<Figure size 432x288 with 2 Axes>"
      ]
     },
     "metadata": {
      "needs_background": "light"
     },
     "output_type": "display_data"
    }
   ],
   "source": [
    "model_rf.fit(X_train, y_train)\n",
    "\n",
    "y_pred_val = model_rf.predict(X_val)\n",
    "ConfusionMatrixDisplay.from_predictions(y_val, y_pred_val)"
   ]
  },
  {
   "cell_type": "code",
   "execution_count": 43,
   "id": "d7db344f",
   "metadata": {},
   "outputs": [
    {
     "name": "stdout",
     "output_type": "stream",
     "text": [
      "Accuracy (Train Set): 1.00\n",
      "Accuracy (Test Set): 0.97\n",
      "\n",
      "Precision (Test Set): 0.97\n",
      "Recall (Test Set): 0.98\n",
      "F1-Score (Test Set): 0.98\n",
      "AUC: 0.97\n"
     ]
    }
   ],
   "source": [
    "eval_classification(model_rf, y_pred_val, X_train, y_train, X_val, y_val)"
   ]
  },
  {
   "cell_type": "markdown",
   "id": "f27263b3",
   "metadata": {},
   "source": [
    "#### Hyperparameter Tuning"
   ]
  },
  {
   "cell_type": "code",
   "execution_count": 53,
   "id": "b53468f2",
   "metadata": {},
   "outputs": [
    {
     "data": {
      "text/plain": [
       "<sklearn.metrics._plot.confusion_matrix.ConfusionMatrixDisplay at 0x1e72818f850>"
      ]
     },
     "execution_count": 53,
     "metadata": {},
     "output_type": "execute_result"
    },
    {
     "data": {
      "image/png": "[encoded data removed]",
      "text/plain": [
       "<Figure size 432x288 with 2 Axes>"
      ]
     },
     "metadata": {
      "needs_background": "light"
     },
     "output_type": "display_data"
    }
   ],
   "source": [
    "hyperparameters = dict(n_estimators = [int(x) for x in np.linspace(start = 100, stop = 300, num = 4)],\n",
    "                       bootstrap = [True],\n",
    "                       criterion = ['gini','entropy'],\n",
    "                       max_depth = [3],\n",
    "                       min_samples_split = [20,30, 40, 50, 75, 100],\n",
    "                       min_samples_leaf = [10, 20, 30, 40, 50],\n",
    "                       max_features = ['auto', 'sqrt', 'log2'],\n",
    "                       n_jobs = [-1])\n",
    "\n",
    "model_rf_tuned = RandomizedSearchCV(model_rf, hyperparameters, cv=cv, random_state=0, scoring='roc_auc')\n",
    "model_rf_tuned.fit(X_train, y_train)\n",
    "\n",
    "y_pred_val = model_rf_tuned.predict(X_val)\n",
    "ConfusionMatrixDisplay.from_predictions(y_val, y_pred_val)"
   ]
  },
  {
   "cell_type": "code",
   "execution_count": 54,
   "id": "ff3f29a2",
   "metadata": {},
   "outputs": [
    {
     "name": "stdout",
     "output_type": "stream",
     "text": [
      "Accuracy (Train Set): 0.99\n",
      "Accuracy (Test Set): 0.96\n",
      "\n",
      "Precision (Test Set): 0.96\n",
      "Recall (Test Set): 0.96\n",
      "F1-Score (Test Set): 0.96\n",
      "AUC: 0.96\n"
     ]
    }
   ],
   "source": [
    "eval_classification(model_rf_tuned, y_pred_val, X_train, y_train, X_val, y_val)"
   ]
  },
  {
   "cell_type": "code",
   "execution_count": 55,
   "id": "508dda73",
   "metadata": {},
   "outputs": [
    {
     "data": {
      "text/plain": [
       "{'bootstrap': True,\n",
       " 'ccp_alpha': 0.0,\n",
       " 'class_weight': None,\n",
       " 'criterion': 'entropy',\n",
       " 'max_depth': 3,\n",
       " 'max_features': 'auto',\n",
       " 'max_leaf_nodes': None,\n",
       " 'max_samples': None,\n",
       " 'min_impurity_decrease': 0.0,\n",
       " 'min_samples_leaf': 10,\n",
       " 'min_samples_split': 40,\n",
       " 'min_weight_fraction_leaf': 0.0,\n",
       " 'n_estimators': 166,\n",
       " 'n_jobs': -1,\n",
       " 'oob_score': False,\n",
       " 'random_state': 0,\n",
       " 'verbose': 0,\n",
       " 'warm_start': False}"
      ]
     },
     "execution_count": 55,
     "metadata": {},
     "output_type": "execute_result"
    }
   ],
   "source": [
    "model_rf_tuned.best_estimator_.get_params()"
   ]
  },
  {
   "cell_type": "markdown",
   "id": "20f9440c",
   "metadata": {},
   "source": [
    "### KNN"
   ]
  },
  {
   "cell_type": "code",
   "execution_count": 37,
   "id": "a448dba7",
   "metadata": {},
   "outputs": [
    {
     "data": {
      "text/plain": [
       "0.7097604166666666"
      ]
     },
     "execution_count": 37,
     "metadata": {},
     "output_type": "execute_result"
    }
   ],
   "source": [
    "model_knn = KNeighborsClassifier()\n",
    "scores = cross_val_score(model_knn, X_train, y_train, cv=cv, scoring='roc_auc')\n",
    "scores.mean()"
   ]
  },
  {
   "cell_type": "code",
   "execution_count": 38,
   "id": "33518f8c",
   "metadata": {},
   "outputs": [
    {
     "data": {
      "text/plain": [
       "<sklearn.metrics._plot.confusion_matrix.ConfusionMatrixDisplay at 0x1e727cad760>"
      ]
     },
     "execution_count": 38,
     "metadata": {},
     "output_type": "execute_result"
    },
    {
     "data": {
      "image/png": "[encoded data removed]",
      "text/plain": [
       "<Figure size 432x288 with 2 Axes>"
      ]
     },
     "metadata": {
      "needs_background": "light"
     },
     "output_type": "display_data"
    }
   ],
   "source": [
    "model_knn.fit(X_train, y_train)\n",
    "\n",
    "y_pred_val = model_knn.predict(X_val)\n",
    "ConfusionMatrixDisplay.from_predictions(y_val, y_pred_val)"
   ]
  },
  {
   "cell_type": "code",
   "execution_count": 39,
   "id": "3c9539dc",
   "metadata": {},
   "outputs": [
    {
     "name": "stdout",
     "output_type": "stream",
     "text": [
      "Accuracy (Train Set): 0.77\n",
      "Accuracy (Test Set): 0.67\n",
      "\n",
      "Precision (Test Set): 0.66\n",
      "Recall (Test Set): 0.69\n",
      "F1-Score (Test Set): 0.67\n",
      "AUC: 0.66\n"
     ]
    }
   ],
   "source": [
    "eval_classification(model_knn, y_pred_val, X_train, y_train, X_val, y_val)"
   ]
  },
  {
   "cell_type": "markdown",
   "id": "e1bd0534",
   "metadata": {},
   "source": [
    "#### Hyperparameter Tuning"
   ]
  },
  {
   "cell_type": "code",
   "execution_count": 56,
   "id": "f46c6ddb",
   "metadata": {},
   "outputs": [
    {
     "data": {
      "text/plain": [
       "<sklearn.metrics._plot.confusion_matrix.ConfusionMatrixDisplay at 0x1e7296a2730>"
      ]
     },
     "execution_count": 56,
     "metadata": {},
     "output_type": "execute_result"
    },
    {
     "data": {
      "image/png": "[encoded data removed]",
      "text/plain": [
       "<Figure size 432x288 with 2 Axes>"
      ]
     },
     "metadata": {
      "needs_background": "light"
     },
     "output_type": "display_data"
    }
   ],
   "source": [
    "hyperparameters = dict(n_neighbors = list(range(25,36)),\n",
    "                       p=[1,2],\n",
    "                       algorithm = ['auto', 'ball_tree', 'kd_tree', 'brute'])\n",
    "\n",
    "model_knn_tuned = RandomizedSearchCV(model_knn, hyperparameters, cv=cv, random_state=0, scoring='recall')\n",
    "model_knn_tuned.fit(X_train, y_train)\n",
    "\n",
    "y_pred_val = model_knn_tuned.predict(X_val)\n",
    "ConfusionMatrixDisplay.from_predictions(y_val, y_pred_val)"
   ]
  },
  {
   "cell_type": "code",
   "execution_count": 57,
   "id": "0b4dd641",
   "metadata": {},
   "outputs": [
    {
     "name": "stdout",
     "output_type": "stream",
     "text": [
      "Accuracy (Train Set): 0.60\n",
      "Accuracy (Test Set): 0.76\n",
      "\n",
      "Precision (Test Set): 0.78\n",
      "Recall (Test Set): 0.73\n",
      "F1-Score (Test Set): 0.75\n",
      "AUC: 0.76\n"
     ]
    }
   ],
   "source": [
    "eval_classification(model_knn_tuned, y_pred_val, X_train, y_train, X_val, y_val)"
   ]
  },
  {
   "cell_type": "code",
   "execution_count": 58,
   "id": "6db6bb36",
   "metadata": {},
   "outputs": [
    {
     "data": {
      "text/plain": [
       "{'algorithm': 'ball_tree',\n",
       " 'leaf_size': 30,\n",
       " 'metric': 'minkowski',\n",
       " 'metric_params': None,\n",
       " 'n_jobs': None,\n",
       " 'n_neighbors': 35,\n",
       " 'p': 2,\n",
       " 'weights': 'uniform'}"
      ]
     },
     "execution_count": 58,
     "metadata": {},
     "output_type": "execute_result"
    }
   ],
   "source": [
    "model_knn_tuned.best_estimator_.get_params()"
   ]
  },
  {
   "cell_type": "markdown",
   "id": "a0d8946c",
   "metadata": {},
   "source": [
    "## Modeling Experiment 1: With Standardization"
   ]
  },
  {
   "cell_type": "code",
   "execution_count": 11,
   "id": "43d6121b",
   "metadata": {},
   "outputs": [],
   "source": [
    "num_cols = ['Daily Time Spent on Site', 'Age', 'Area Income',\n",
    "            'Daily Internet Usage']\n",
    "cat_cols = ['Male','category:Bank',\n",
    "       'category:Electronic', 'category:Fashion', 'category:Finance',\n",
    "       'category:Food', 'category:Furniture', 'category:Health',\n",
    "       'category:House', 'category:Otomotif', 'category:Travel', 'Month:Apr',\n",
    "       'Month:Feb', 'Month:Jan', 'Month:Jul', 'Month:Jun', 'Month:Mar',\n",
    "       'Month:May', 'Day_of_Week:Fri', 'Day_of_Week:Mon', 'Day_of_Week:Sat',\n",
    "       'Day_of_Week:Sun', 'Day_of_Week:Thu', 'Day_of_Week:Tue',\n",
    "       'Day_of_Week:Wed']"
   ]
  },
  {
   "cell_type": "code",
   "execution_count": 12,
   "id": "4d2cf37d",
   "metadata": {},
   "outputs": [],
   "source": [
    "scaler = StandardScaler()\n",
    "X_train_sc = pd.DataFrame(scaler.fit_transform(X_train[num_cols]), columns=num_cols).reset_index(drop=True)\n",
    "X_val_sc = pd.DataFrame(scaler.transform(X_val[num_cols]), columns=num_cols).reset_index(drop=True)"
   ]
  },
  {
   "cell_type": "code",
   "execution_count": 13,
   "id": "443375fe",
   "metadata": {},
   "outputs": [],
   "source": [
    "X_train_sc = pd.concat([X_train_sc, X_train[cat_cols].reset_index(drop=True)], axis = 1)\n",
    "X_val_sc = pd.concat([X_val_sc, X_val[cat_cols].reset_index(drop=True)], axis = 1)"
   ]
  },
  {
   "cell_type": "code",
   "execution_count": 96,
   "id": "4cf08e39",
   "metadata": {},
   "outputs": [
    {
     "data": {
      "text/html": [
       "<div>\n",
       "<style scoped>\n",
       "    .dataframe tbody tr th:only-of-type {\n",
       "        vertical-align: middle;\n",
       "    }\n",
       "\n",
       "    .dataframe tbody tr th {\n",
       "        vertical-align: top;\n",
       "    }\n",
       "\n",
       "    .dataframe thead th {\n",
       "        text-align: right;\n",
       "    }\n",
       "</style>\n",
       "<table border=\"1\" class=\"dataframe\">\n",
       "  <thead>\n",
       "    <tr style=\"text-align: right;\">\n",
       "      <th></th>\n",
       "      <th>Daily Time Spent on Site</th>\n",
       "      <th>Age</th>\n",
       "      <th>Area Income</th>\n",
       "      <th>Daily Internet Usage</th>\n",
       "      <th>Male</th>\n",
       "      <th>category:Bank</th>\n",
       "      <th>category:Electronic</th>\n",
       "      <th>category:Fashion</th>\n",
       "      <th>category:Finance</th>\n",
       "      <th>category:Food</th>\n",
       "      <th>category:Furniture</th>\n",
       "      <th>category:Health</th>\n",
       "      <th>category:House</th>\n",
       "      <th>category:Otomotif</th>\n",
       "      <th>category:Travel</th>\n",
       "      <th>Month:Apr</th>\n",
       "      <th>Month:Feb</th>\n",
       "      <th>Month:Jan</th>\n",
       "      <th>Month:Jul</th>\n",
       "      <th>Month:Jun</th>\n",
       "      <th>Month:Mar</th>\n",
       "      <th>Month:May</th>\n",
       "      <th>Day_of_Week:Fri</th>\n",
       "      <th>Day_of_Week:Mon</th>\n",
       "      <th>Day_of_Week:Sat</th>\n",
       "      <th>Day_of_Week:Sun</th>\n",
       "      <th>Day_of_Week:Thu</th>\n",
       "      <th>Day_of_Week:Tue</th>\n",
       "      <th>Day_of_Week:Wed</th>\n",
       "    </tr>\n",
       "  </thead>\n",
       "  <tbody>\n",
       "    <tr>\n",
       "      <th>0</th>\n",
       "      <td>-1.00556</td>\n",
       "      <td>-0.475928</td>\n",
       "      <td>-1.081529</td>\n",
       "      <td>-1.37747</td>\n",
       "      <td>0</td>\n",
       "      <td>0</td>\n",
       "      <td>0</td>\n",
       "      <td>0</td>\n",
       "      <td>1</td>\n",
       "      <td>0</td>\n",
       "      <td>0</td>\n",
       "      <td>0</td>\n",
       "      <td>0</td>\n",
       "      <td>0</td>\n",
       "      <td>0</td>\n",
       "      <td>0</td>\n",
       "      <td>0</td>\n",
       "      <td>1</td>\n",
       "      <td>0</td>\n",
       "      <td>0</td>\n",
       "      <td>0</td>\n",
       "      <td>0</td>\n",
       "      <td>1</td>\n",
       "      <td>0</td>\n",
       "      <td>0</td>\n",
       "      <td>0</td>\n",
       "      <td>0</td>\n",
       "      <td>0</td>\n",
       "      <td>0</td>\n",
       "    </tr>\n",
       "  </tbody>\n",
       "</table>\n",
       "</div>"
      ],
      "text/plain": [
       "   Daily Time Spent on Site       Age  Area Income  Daily Internet Usage  \\\n",
       "0                  -1.00556 -0.475928    -1.081529              -1.37747   \n",
       "\n",
       "   Male  category:Bank  category:Electronic  category:Fashion  \\\n",
       "0     0              0                    0                 0   \n",
       "\n",
       "   category:Finance  category:Food  category:Furniture  category:Health  \\\n",
       "0                 1              0                   0                0   \n",
       "\n",
       "   category:House  category:Otomotif  category:Travel  Month:Apr  Month:Feb  \\\n",
       "0               0                  0                0          0          0   \n",
       "\n",
       "   Month:Jan  Month:Jul  Month:Jun  Month:Mar  Month:May  Day_of_Week:Fri  \\\n",
       "0          1          0          0          0          0                1   \n",
       "\n",
       "   Day_of_Week:Mon  Day_of_Week:Sat  Day_of_Week:Sun  Day_of_Week:Thu  \\\n",
       "0                0                0                0                0   \n",
       "\n",
       "   Day_of_Week:Tue  Day_of_Week:Wed  \n",
       "0                0                0  "
      ]
     },
     "execution_count": 96,
     "metadata": {},
     "output_type": "execute_result"
    }
   ],
   "source": [
    "X_train_sc.head(1)"
   ]
  },
  {
   "cell_type": "markdown",
   "id": "45ba1a8a",
   "metadata": {},
   "source": [
    "### Logistic Regression"
   ]
  },
  {
   "cell_type": "code",
   "execution_count": 14,
   "id": "44394e76",
   "metadata": {},
   "outputs": [
    {
     "data": {
      "text/plain": [
       "0.99034375"
      ]
     },
     "execution_count": 14,
     "metadata": {},
     "output_type": "execute_result"
    }
   ],
   "source": [
    "model_lr_sc = LogisticRegression(max_iter=1000, random_state=0)\n",
    "\n",
    "scores = cross_val_score(model_lr_sc, X_train_sc, y_train, scoring = 'roc_auc', cv = cv)\n",
    "scores.mean()"
   ]
  },
  {
   "cell_type": "code",
   "execution_count": 15,
   "id": "1c19ef52",
   "metadata": {},
   "outputs": [
    {
     "data": {
      "text/plain": [
       "<sklearn.metrics._plot.confusion_matrix.ConfusionMatrixDisplay at 0x275e10a88b0>"
      ]
     },
     "execution_count": 15,
     "metadata": {},
     "output_type": "execute_result"
    },
    {
     "data": {
      "image/png": "[encoded data removed]",
      "text/plain": [
       "<Figure size 432x288 with 2 Axes>"
      ]
     },
     "metadata": {
      "needs_background": "light"
     },
     "output_type": "display_data"
    }
   ],
   "source": [
    "model_lr_sc.fit(X_train_sc, y_train)\n",
    "\n",
    "y_pred_val = model_lr_sc.predict(X_val_sc)\n",
    "ConfusionMatrixDisplay.from_predictions(y_val, y_pred_val)"
   ]
  },
  {
   "cell_type": "code",
   "execution_count": 99,
   "id": "c1193829",
   "metadata": {},
   "outputs": [
    {
     "name": "stdout",
     "output_type": "stream",
     "text": [
      "Accuracy (Train Set): 0.97\n",
      "Accuracy (Test Set): 0.98\n",
      "\n",
      "Precision (Test Set): 0.99\n",
      "Recall (Test Set): 0.97\n",
      "F1-Score (Test Set): 0.98\n",
      "AUC: 0.98\n"
     ]
    }
   ],
   "source": [
    "eval_classification(model_lr_sc, y_pred_val, X_train_sc, y_train, X_val_sc, y_val)"
   ]
  },
  {
   "cell_type": "code",
   "execution_count": 100,
   "id": "c2e0b78f",
   "metadata": {},
   "outputs": [
    {
     "data": {
      "text/plain": [
       "{'C': 1.0,\n",
       " 'class_weight': None,\n",
       " 'dual': False,\n",
       " 'fit_intercept': True,\n",
       " 'intercept_scaling': 1,\n",
       " 'l1_ratio': None,\n",
       " 'max_iter': 1000,\n",
       " 'multi_class': 'auto',\n",
       " 'n_jobs': None,\n",
       " 'penalty': 'l2',\n",
       " 'random_state': 0,\n",
       " 'solver': 'lbfgs',\n",
       " 'tol': 0.0001,\n",
       " 'verbose': 0,\n",
       " 'warm_start': False}"
      ]
     },
     "execution_count": 100,
     "metadata": {},
     "output_type": "execute_result"
    }
   ],
   "source": [
    "model_lr_sc.get_params()"
   ]
  },
  {
   "cell_type": "markdown",
   "id": "bcdba281",
   "metadata": {},
   "source": [
    "#### Hyperparameter Tuning"
   ]
  },
  {
   "cell_type": "code",
   "execution_count": 101,
   "id": "d033d3ac",
   "metadata": {},
   "outputs": [
    {
     "data": {
      "text/plain": [
       "<sklearn.metrics._plot.confusion_matrix.ConfusionMatrixDisplay at 0x1e7280cf7c0>"
      ]
     },
     "execution_count": 101,
     "metadata": {},
     "output_type": "execute_result"
    },
    {
     "data": {
      "image/png": "[encoded data removed]",
      "text/plain": [
       "<Figure size 432x288 with 2 Axes>"
      ]
     },
     "metadata": {
      "needs_background": "light"
     },
     "output_type": "display_data"
    }
   ],
   "source": [
    "hyperparameters = dict(penalty = ['l2','l1','elasticnet','none'],\n",
    "                       C = [0.0001, 0.001, 0.002],\n",
    "                       solver=['newton-cg', 'lbfgs','liblinear', 'sag', 'saga'])\n",
    "\n",
    "model_lr_sc_tuned = RandomizedSearchCV(model_lr_sc, hyperparameters, cv=cv, random_state=0, scoring='roc_auc')\n",
    "model_lr_sc_tuned.fit(X_train_sc, y_train)\n",
    "\n",
    "y_pred_val = model_lr_sc_tuned.predict(X_val_sc)\n",
    "ConfusionMatrixDisplay.from_predictions(y_val, y_pred_val)"
   ]
  },
  {
   "cell_type": "code",
   "execution_count": 102,
   "id": "cea5ec46",
   "metadata": {},
   "outputs": [
    {
     "name": "stdout",
     "output_type": "stream",
     "text": [
      "Accuracy (Train Set): 0.99\n",
      "Accuracy (Test Set): 0.97\n",
      "\n",
      "Precision (Test Set): 1.00\n",
      "Recall (Test Set): 0.95\n",
      "F1-Score (Test Set): 0.97\n",
      "AUC: 0.97\n"
     ]
    }
   ],
   "source": [
    "eval_classification(model_lr_sc_tuned, y_pred_val, X_train_sc, y_train, X_val_sc, y_val)"
   ]
  },
  {
   "cell_type": "code",
   "execution_count": 103,
   "id": "fd871795",
   "metadata": {},
   "outputs": [
    {
     "data": {
      "text/plain": [
       "{'C': 0.001,\n",
       " 'class_weight': None,\n",
       " 'dual': False,\n",
       " 'fit_intercept': True,\n",
       " 'intercept_scaling': 1,\n",
       " 'l1_ratio': None,\n",
       " 'max_iter': 1000,\n",
       " 'multi_class': 'auto',\n",
       " 'n_jobs': None,\n",
       " 'penalty': 'l2',\n",
       " 'random_state': 0,\n",
       " 'solver': 'liblinear',\n",
       " 'tol': 0.0001,\n",
       " 'verbose': 0,\n",
       " 'warm_start': False}"
      ]
     },
     "execution_count": 103,
     "metadata": {},
     "output_type": "execute_result"
    }
   ],
   "source": [
    "model_lr_sc_tuned.best_estimator_.get_params()"
   ]
  },
  {
   "cell_type": "markdown",
   "id": "d558bb86",
   "metadata": {},
   "source": [
    "### Decision Tree"
   ]
  },
  {
   "cell_type": "code",
   "execution_count": 104,
   "id": "264070f9",
   "metadata": {},
   "outputs": [
    {
     "data": {
      "text/plain": [
       "0.9325"
      ]
     },
     "execution_count": 104,
     "metadata": {},
     "output_type": "execute_result"
    }
   ],
   "source": [
    "model_dt_sc = DecisionTreeClassifier(random_state=0)\n",
    "scores = cross_val_score(model_dt_sc, X_train_sc, y_train, cv=cv, scoring='roc_auc')\n",
    "scores.mean()"
   ]
  },
  {
   "cell_type": "code",
   "execution_count": 106,
   "id": "b9eca7b7",
   "metadata": {},
   "outputs": [
    {
     "data": {
      "text/plain": [
       "<sklearn.metrics._plot.confusion_matrix.ConfusionMatrixDisplay at 0x1e7296a2130>"
      ]
     },
     "execution_count": 106,
     "metadata": {},
     "output_type": "execute_result"
    },
    {
     "data": {
      "image/png": "[encoded data removed]",
      "text/plain": [
       "<Figure size 432x288 with 2 Axes>"
      ]
     },
     "metadata": {
      "needs_background": "light"
     },
     "output_type": "display_data"
    }
   ],
   "source": [
    "model_dt_sc.fit(X_train_sc, y_train)\n",
    "\n",
    "y_pred_val = model_dt_sc.predict(X_val_sc)\n",
    "ConfusionMatrixDisplay.from_predictions(y_val, y_pred_val)"
   ]
  },
  {
   "cell_type": "code",
   "execution_count": 107,
   "id": "3bebd08a",
   "metadata": {},
   "outputs": [
    {
     "name": "stdout",
     "output_type": "stream",
     "text": [
      "Accuracy (Train Set): 1.00\n",
      "Accuracy (Test Set): 0.94\n",
      "\n",
      "Precision (Test Set): 0.92\n",
      "Recall (Test Set): 0.96\n",
      "F1-Score (Test Set): 0.94\n",
      "AUC: 0.94\n"
     ]
    }
   ],
   "source": [
    "eval_classification(model_dt_sc, y_pred_val, X_train_sc, y_train, X_val_sc, y_val)"
   ]
  },
  {
   "cell_type": "code",
   "execution_count": 111,
   "id": "8cc41bd0",
   "metadata": {},
   "outputs": [
    {
     "data": {
      "text/plain": [
       "{'ccp_alpha': 0.0,\n",
       " 'class_weight': None,\n",
       " 'criterion': 'gini',\n",
       " 'max_depth': None,\n",
       " 'max_features': None,\n",
       " 'max_leaf_nodes': None,\n",
       " 'min_impurity_decrease': 0.0,\n",
       " 'min_samples_leaf': 1,\n",
       " 'min_samples_split': 2,\n",
       " 'min_weight_fraction_leaf': 0.0,\n",
       " 'random_state': 0,\n",
       " 'splitter': 'best'}"
      ]
     },
     "execution_count": 111,
     "metadata": {},
     "output_type": "execute_result"
    }
   ],
   "source": [
    "model_dt_sc.get_params()"
   ]
  },
  {
   "cell_type": "markdown",
   "id": "e9d7820b",
   "metadata": {},
   "source": [
    "#### Hyperparameter Tuning"
   ]
  },
  {
   "cell_type": "code",
   "execution_count": 108,
   "id": "194a79d6",
   "metadata": {},
   "outputs": [
    {
     "name": "stdout",
     "output_type": "stream",
     "text": [
      "Wall time: 661 ms\n"
     ]
    },
    {
     "data": {
      "text/plain": [
       "<sklearn.metrics._plot.confusion_matrix.ConfusionMatrixDisplay at 0x1e7298123a0>"
      ]
     },
     "execution_count": 108,
     "metadata": {},
     "output_type": "execute_result"
    },
    {
     "data": {
      "image/png": "[encoded data removed]",
      "text/plain": [
       "<Figure size 432x288 with 2 Axes>"
      ]
     },
     "metadata": {
      "needs_background": "light"
     },
     "output_type": "display_data"
    }
   ],
   "source": [
    "%%time\n",
    "hyperparameters = dict(max_depth=[3,4,5], \n",
    "                       min_samples_split=[10, 20,30, 40, 50, 75, 100], \n",
    "                       min_samples_leaf=[10, 20,30, 40, 50],\n",
    "                       max_features=['auto', 'sqrt'],\n",
    "                       criterion = ['gini','entropy'])\n",
    "\n",
    "model_dt_sc_tuned = RandomizedSearchCV(model_dt_sc, hyperparameters, cv=cv, random_state=0, scoring='roc_auc')\n",
    "model_dt_sc_tuned.fit(X_train_sc, y_train)\n",
    "\n",
    "y_pred_val = model_dt_sc_tuned.predict(X_val_sc)\n",
    "ConfusionMatrixDisplay.from_predictions(y_val, y_pred_val)"
   ]
  },
  {
   "cell_type": "code",
   "execution_count": 109,
   "id": "224f4f41",
   "metadata": {},
   "outputs": [
    {
     "name": "stdout",
     "output_type": "stream",
     "text": [
      "Accuracy (Train Set): 0.96\n",
      "Accuracy (Test Set): 0.93\n",
      "\n",
      "Precision (Test Set): 0.90\n",
      "Recall (Test Set): 0.96\n",
      "F1-Score (Test Set): 0.93\n",
      "AUC: 0.92\n"
     ]
    }
   ],
   "source": [
    "eval_classification(model_dt_sc_tuned, y_pred_val, X_train_sc, y_train, X_val_sc, y_val)"
   ]
  },
  {
   "cell_type": "code",
   "execution_count": 110,
   "id": "50150605",
   "metadata": {},
   "outputs": [
    {
     "data": {
      "text/plain": [
       "{'ccp_alpha': 0.0,\n",
       " 'class_weight': None,\n",
       " 'criterion': 'entropy',\n",
       " 'max_depth': 3,\n",
       " 'max_features': 'sqrt',\n",
       " 'max_leaf_nodes': None,\n",
       " 'min_impurity_decrease': 0.0,\n",
       " 'min_samples_leaf': 30,\n",
       " 'min_samples_split': 50,\n",
       " 'min_weight_fraction_leaf': 0.0,\n",
       " 'random_state': 0,\n",
       " 'splitter': 'best'}"
      ]
     },
     "execution_count": 110,
     "metadata": {},
     "output_type": "execute_result"
    }
   ],
   "source": [
    "model_dt_sc_tuned.best_estimator_.get_params()"
   ]
  },
  {
   "cell_type": "markdown",
   "id": "4d9a2fe8",
   "metadata": {},
   "source": [
    "### Random Forest"
   ]
  },
  {
   "cell_type": "code",
   "execution_count": 113,
   "id": "28ad0768",
   "metadata": {},
   "outputs": [
    {
     "data": {
      "text/plain": [
       "0.9891979166666668"
      ]
     },
     "execution_count": 113,
     "metadata": {},
     "output_type": "execute_result"
    }
   ],
   "source": [
    "model_rf_sc = RandomForestClassifier(random_state=0)\n",
    "scores = cross_val_score(model_rf_sc, X_train_sc, y_train, cv=cv, scoring='roc_auc')\n",
    "scores.mean()"
   ]
  },
  {
   "cell_type": "code",
   "execution_count": 114,
   "id": "2ffa7277",
   "metadata": {},
   "outputs": [
    {
     "data": {
      "text/plain": [
       "<sklearn.metrics._plot.confusion_matrix.ConfusionMatrixDisplay at 0x1e7294913a0>"
      ]
     },
     "execution_count": 114,
     "metadata": {},
     "output_type": "execute_result"
    },
    {
     "data": {
      "image/png": "[encoded data removed]",
      "text/plain": [
       "<Figure size 432x288 with 2 Axes>"
      ]
     },
     "metadata": {
      "needs_background": "light"
     },
     "output_type": "display_data"
    }
   ],
   "source": [
    "model_rf_sc.fit(X_train_sc, y_train)\n",
    "\n",
    "y_pred_val = model_rf_sc.predict(X_val_sc)\n",
    "ConfusionMatrixDisplay.from_predictions(y_val, y_pred_val)"
   ]
  },
  {
   "cell_type": "code",
   "execution_count": 115,
   "id": "5361cf1e",
   "metadata": {},
   "outputs": [
    {
     "name": "stdout",
     "output_type": "stream",
     "text": [
      "Accuracy (Train Set): 1.00\n",
      "Accuracy (Test Set): 0.97\n",
      "\n",
      "Precision (Test Set): 0.97\n",
      "Recall (Test Set): 0.98\n",
      "F1-Score (Test Set): 0.98\n",
      "AUC: 0.97\n"
     ]
    }
   ],
   "source": [
    "eval_classification(model_rf_sc, y_pred_val, X_train_sc, y_train, X_val_sc, y_val)"
   ]
  },
  {
   "cell_type": "code",
   "execution_count": 119,
   "id": "7cd800ba",
   "metadata": {},
   "outputs": [
    {
     "data": {
      "text/plain": [
       "{'bootstrap': True,\n",
       " 'ccp_alpha': 0.0,\n",
       " 'class_weight': None,\n",
       " 'criterion': 'gini',\n",
       " 'max_depth': None,\n",
       " 'max_features': 'auto',\n",
       " 'max_leaf_nodes': None,\n",
       " 'max_samples': None,\n",
       " 'min_impurity_decrease': 0.0,\n",
       " 'min_samples_leaf': 1,\n",
       " 'min_samples_split': 2,\n",
       " 'min_weight_fraction_leaf': 0.0,\n",
       " 'n_estimators': 100,\n",
       " 'n_jobs': None,\n",
       " 'oob_score': False,\n",
       " 'random_state': 0,\n",
       " 'verbose': 0,\n",
       " 'warm_start': False}"
      ]
     },
     "execution_count": 119,
     "metadata": {},
     "output_type": "execute_result"
    }
   ],
   "source": [
    "model_rf_sc.get_params()"
   ]
  },
  {
   "cell_type": "markdown",
   "id": "78af7eca",
   "metadata": {},
   "source": [
    "#### Hyperparameter Tuning"
   ]
  },
  {
   "cell_type": "code",
   "execution_count": 116,
   "id": "f85c6a2e",
   "metadata": {},
   "outputs": [
    {
     "data": {
      "text/plain": [
       "<sklearn.metrics._plot.confusion_matrix.ConfusionMatrixDisplay at 0x1e729b12220>"
      ]
     },
     "execution_count": 116,
     "metadata": {},
     "output_type": "execute_result"
    },
    {
     "data": {
      "image/png": "[encoded data removed]",
      "text/plain": [
       "<Figure size 432x288 with 2 Axes>"
      ]
     },
     "metadata": {
      "needs_background": "light"
     },
     "output_type": "display_data"
    }
   ],
   "source": [
    "hyperparameters = dict(n_estimators = [int(x) for x in np.linspace(start = 100, stop = 300, num = 4)],\n",
    "                       bootstrap = [True],\n",
    "                       criterion = ['gini','entropy'],\n",
    "                       max_depth = [3],\n",
    "                       min_samples_split = [20,30, 40, 50, 75, 100],\n",
    "                       min_samples_leaf = [10, 20, 30, 40, 50],\n",
    "                       max_features = ['auto', 'sqrt', 'log2'],\n",
    "                       n_jobs = [-1])\n",
    "\n",
    "model_rf_sc_tuned = RandomizedSearchCV(model_rf_sc, hyperparameters, cv=cv, random_state=0, scoring='roc_auc')\n",
    "model_rf_sc_tuned.fit(X_train_sc, y_train)\n",
    "\n",
    "y_pred_val = model_rf_sc_tuned.predict(X_val_sc)\n",
    "ConfusionMatrixDisplay.from_predictions(y_val, y_pred_val)"
   ]
  },
  {
   "cell_type": "code",
   "execution_count": 117,
   "id": "96ad8030",
   "metadata": {},
   "outputs": [
    {
     "name": "stdout",
     "output_type": "stream",
     "text": [
      "Accuracy (Train Set): 0.99\n",
      "Accuracy (Test Set): 0.96\n",
      "\n",
      "Precision (Test Set): 0.96\n",
      "Recall (Test Set): 0.96\n",
      "F1-Score (Test Set): 0.96\n",
      "AUC: 0.96\n"
     ]
    }
   ],
   "source": [
    "eval_classification(model_rf_sc_tuned, y_pred_val, X_train_sc, y_train, X_val_sc, y_val)"
   ]
  },
  {
   "cell_type": "code",
   "execution_count": 118,
   "id": "6abbf82d",
   "metadata": {},
   "outputs": [
    {
     "data": {
      "text/plain": [
       "{'bootstrap': True,\n",
       " 'ccp_alpha': 0.0,\n",
       " 'class_weight': None,\n",
       " 'criterion': 'entropy',\n",
       " 'max_depth': 3,\n",
       " 'max_features': 'auto',\n",
       " 'max_leaf_nodes': None,\n",
       " 'max_samples': None,\n",
       " 'min_impurity_decrease': 0.0,\n",
       " 'min_samples_leaf': 10,\n",
       " 'min_samples_split': 40,\n",
       " 'min_weight_fraction_leaf': 0.0,\n",
       " 'n_estimators': 166,\n",
       " 'n_jobs': -1,\n",
       " 'oob_score': False,\n",
       " 'random_state': 0,\n",
       " 'verbose': 0,\n",
       " 'warm_start': False}"
      ]
     },
     "execution_count": 118,
     "metadata": {},
     "output_type": "execute_result"
    }
   ],
   "source": [
    "model_rf_sc_tuned.best_estimator_.get_params()"
   ]
  },
  {
   "cell_type": "markdown",
   "id": "6459b286",
   "metadata": {},
   "source": [
    "### KNN"
   ]
  },
  {
   "cell_type": "code",
   "execution_count": 120,
   "id": "8943ddf8",
   "metadata": {},
   "outputs": [
    {
     "data": {
      "text/plain": [
       "0.9793749999999998"
      ]
     },
     "execution_count": 120,
     "metadata": {},
     "output_type": "execute_result"
    }
   ],
   "source": [
    "model_knn_sc = KNeighborsClassifier()\n",
    "scores = cross_val_score(model_knn_sc, X_train_sc, y_train, cv=cv, scoring='roc_auc')\n",
    "scores.mean()"
   ]
  },
  {
   "cell_type": "code",
   "execution_count": 121,
   "id": "595dd216",
   "metadata": {},
   "outputs": [
    {
     "data": {
      "text/plain": [
       "<sklearn.metrics._plot.confusion_matrix.ConfusionMatrixDisplay at 0x1e729ca3e80>"
      ]
     },
     "execution_count": 121,
     "metadata": {},
     "output_type": "execute_result"
    },
    {
     "data": {
      "image/png": "[encoded data removed]",
      "text/plain": [
       "<Figure size 432x288 with 2 Axes>"
      ]
     },
     "metadata": {
      "needs_background": "light"
     },
     "output_type": "display_data"
    }
   ],
   "source": [
    "model_knn_sc.fit(X_train_sc, y_train)\n",
    "\n",
    "y_pred_val = model_knn_sc.predict(X_val_sc)\n",
    "ConfusionMatrixDisplay.from_predictions(y_val, y_pred_val)"
   ]
  },
  {
   "cell_type": "code",
   "execution_count": 122,
   "id": "40cbb80e",
   "metadata": {},
   "outputs": [
    {
     "name": "stdout",
     "output_type": "stream",
     "text": [
      "Accuracy (Train Set): 0.97\n",
      "Accuracy (Test Set): 0.97\n",
      "\n",
      "Precision (Test Set): 0.99\n",
      "Recall (Test Set): 0.96\n",
      "F1-Score (Test Set): 0.97\n",
      "AUC: 0.97\n"
     ]
    }
   ],
   "source": [
    "eval_classification(model_knn_sc, y_pred_val, X_train_sc, y_train, X_val_sc, y_val)"
   ]
  },
  {
   "cell_type": "code",
   "execution_count": 123,
   "id": "ba022c09",
   "metadata": {},
   "outputs": [
    {
     "data": {
      "text/plain": [
       "{'algorithm': 'auto',\n",
       " 'leaf_size': 30,\n",
       " 'metric': 'minkowski',\n",
       " 'metric_params': None,\n",
       " 'n_jobs': None,\n",
       " 'n_neighbors': 5,\n",
       " 'p': 2,\n",
       " 'weights': 'uniform'}"
      ]
     },
     "execution_count": 123,
     "metadata": {},
     "output_type": "execute_result"
    }
   ],
   "source": [
    "model_knn_sc.get_params()"
   ]
  },
  {
   "cell_type": "markdown",
   "id": "93bbb968",
   "metadata": {},
   "source": [
    "#### Hyperparameter Tuning"
   ]
  },
  {
   "cell_type": "code",
   "execution_count": 124,
   "id": "d0043d17",
   "metadata": {},
   "outputs": [
    {
     "data": {
      "text/plain": [
       "<sklearn.metrics._plot.confusion_matrix.ConfusionMatrixDisplay at 0x1e729c7c4f0>"
      ]
     },
     "execution_count": 124,
     "metadata": {},
     "output_type": "execute_result"
    },
    {
     "data": {
      "image/png": "[encoded data removed]",
      "text/plain": [
       "<Figure size 432x288 with 2 Axes>"
      ]
     },
     "metadata": {
      "needs_background": "light"
     },
     "output_type": "display_data"
    }
   ],
   "source": [
    "hyperparameters = dict(n_neighbors = list(range(25,36)),\n",
    "                       p=[1,2],\n",
    "                       algorithm = ['auto', 'ball_tree', 'kd_tree', 'brute'])\n",
    "\n",
    "model_knn_sc_tuned = RandomizedSearchCV(model_knn_sc, hyperparameters, cv=cv, random_state=0, scoring='recall')\n",
    "model_knn_sc_tuned.fit(X_train_sc, y_train)\n",
    "\n",
    "y_pred_val = model_knn_sc_tuned.predict(X_val_sc)\n",
    "ConfusionMatrixDisplay.from_predictions(y_val, y_pred_val)"
   ]
  },
  {
   "cell_type": "code",
   "execution_count": 125,
   "id": "a5e4e5b4",
   "metadata": {},
   "outputs": [
    {
     "name": "stdout",
     "output_type": "stream",
     "text": [
      "Accuracy (Train Set): 0.92\n",
      "Accuracy (Test Set): 0.97\n",
      "\n",
      "Precision (Test Set): 1.00\n",
      "Recall (Test Set): 0.94\n",
      "F1-Score (Test Set): 0.97\n",
      "AUC: 0.97\n"
     ]
    }
   ],
   "source": [
    "eval_classification(model_knn_sc_tuned, y_pred_val, X_train_sc, y_train, X_val_sc, y_val)"
   ]
  },
  {
   "cell_type": "code",
   "execution_count": 126,
   "id": "4d5a6d95",
   "metadata": {},
   "outputs": [
    {
     "data": {
      "text/plain": [
       "{'algorithm': 'auto',\n",
       " 'leaf_size': 30,\n",
       " 'metric': 'minkowski',\n",
       " 'metric_params': None,\n",
       " 'n_jobs': None,\n",
       " 'n_neighbors': 31,\n",
       " 'p': 2,\n",
       " 'weights': 'uniform'}"
      ]
     },
     "execution_count": 126,
     "metadata": {},
     "output_type": "execute_result"
    }
   ],
   "source": [
    "model_knn_sc_tuned.best_estimator_.get_params()"
   ]
  },
  {
   "cell_type": "markdown",
   "id": "8390d15d",
   "metadata": {},
   "source": [
    "## Selected Model"
   ]
  },
  {
   "cell_type": "code",
   "execution_count": 133,
   "id": "2dcdf034",
   "metadata": {},
   "outputs": [],
   "source": [
    "def show_feature_importance(model):\n",
    "    feat_importances = pd.Series(model.best_estimator_.feature_importances_, index=X.columns)\n",
    "    ax = feat_importances.nlargest(10).plot(kind='barh', figsize=(10, 8))\n",
    "    ax.invert_yaxis()\n",
    "    plt.xlabel('score')\n",
    "    plt.ylabel('feature')\n",
    "    plt.title('feature importance score')\n",
    "\n",
    "def show_best_hyperparameter(model, hyperparameters):\n",
    "    for key, value in hyperparameters.items() :\n",
    "        print('Best '+key+':', model.get_params()[key])"
   ]
  },
  {
   "cell_type": "code",
   "execution_count": 66,
   "id": "b5d90fde",
   "metadata": {},
   "outputs": [],
   "source": [
    "def show_feature_importance(model):\n",
    "    feature_importances = pd.DataFrame({'feature':list(X_train_sc.columns), \n",
    "                                  'feature_importance':[abs(i) for i in model_lr_sc.coef_[0]]})\n",
    "    feature_importances = feature_importances.sort_values('feature_importance', ascending=False)\n",
    "    plt.figure(figsize=(7,5))\n",
    "    sns.barplot(data=feature_importances.head(15), \n",
    "                x='feature_importance', \n",
    "                y='feature', \n",
    "                palette='gist_earth')\n",
    "    plt.xlabel('Score')\n",
    "    plt.ylabel('Feature')\n",
    "    plt.title('Feature Importance Score')\n",
    "    sns.despine()\n",
    "\n",
    "def show_best_hyperparameter(model, hyperparameters):\n",
    "    for key, value in hyperparameters.items() :\n",
    "        print('Best '+key+':', model.get_params()[key])"
   ]
  },
  {
   "cell_type": "code",
   "execution_count": 67,
   "id": "d564aa76",
   "metadata": {},
   "outputs": [
    {
     "data": {
      "image/png": "[encoded data removed]",
      "text/plain": [
       "<Figure size 504x360 with 1 Axes>"
      ]
     },
     "metadata": {
      "needs_background": "light"
     },
     "output_type": "display_data"
    }
   ],
   "source": [
    "show_feature_importance(model_lr_sc)"
   ]
  },
  {
   "cell_type": "code",
   "execution_count": 69,
   "id": "e5132ba0",
   "metadata": {},
   "outputs": [
    {
     "name": "stdout",
     "output_type": "stream",
     "text": [
      "Best C: 1.0\n",
      "Best class_weight: None\n",
      "Best dual: False\n",
      "Best fit_intercept: True\n",
      "Best intercept_scaling: 1\n",
      "Best l1_ratio: None\n",
      "Best max_iter: 1000\n",
      "Best multi_class: auto\n",
      "Best n_jobs: None\n",
      "Best penalty: l2\n",
      "Best random_state: 0\n",
      "Best solver: lbfgs\n",
      "Best tol: 0.0001\n",
      "Best verbose: 0\n",
      "Best warm_start: False\n"
     ]
    }
   ],
   "source": [
    "show_best_hyperparameter(model_lr_sc, model_lr_sc.get_params())"
   ]
  },
  {
   "cell_type": "code",
   "execution_count": null,
   "id": "35b2a26a",
   "metadata": {},
   "outputs": [],
   "source": [
    "!pip install shap"
   ]
  },
  {
   "cell_type": "code",
   "execution_count": 72,
   "id": "72c9c81a",
   "metadata": {},
   "outputs": [],
   "source": [
    "explainer = shap.Explainer(model_lr_sc.predict, X_val_sc)\n",
    "shap_values = explainer(X_val_sc)"
   ]
  },
  {
   "cell_type": "code",
   "execution_count": 81,
   "id": "e2d9e9c6",
   "metadata": {
    "scrolled": true
   },
   "outputs": [
    {
     "data": {
      "image/png": "[encoded data removed]",
      "text/plain": [
       "<Figure size 576x540 with 2 Axes>"
      ]
     },
     "metadata": {
      "needs_background": "light"
     },
     "output_type": "display_data"
    }
   ],
   "source": [
    "shap.plots.beeswarm(shap_values, order=shap_values.abs.max(0), max_display=15)"
   ]
  },
  {
   "cell_type": "code",
   "execution_count": 83,
   "id": "d6ee4a52",
   "metadata": {},
   "outputs": [
    {
     "data": {
      "image/png": "[encoded data removed]",
      "text/plain": [
       "<Figure size 576x468 with 1 Axes>"
      ]
     },
     "metadata": {},
     "output_type": "display_data"
    }
   ],
   "source": [
    "shap.plots.bar(shap_values)"
   ]
  },
  {
   "cell_type": "markdown",
   "id": "023b9c0a",
   "metadata": {},
   "source": [
    "## Analysis"
   ]
  },
  {
   "cell_type": "code",
   "execution_count": 68,
   "id": "384fa15f",
   "metadata": {},
   "outputs": [
    {
     "data": {
      "text/html": [
       "<div>\n",
       "<style scoped>\n",
       "    .dataframe tbody tr th:only-of-type {\n",
       "        vertical-align: middle;\n",
       "    }\n",
       "\n",
       "    .dataframe tbody tr th {\n",
       "        vertical-align: top;\n",
       "    }\n",
       "\n",
       "    .dataframe thead th {\n",
       "        text-align: right;\n",
       "    }\n",
       "</style>\n",
       "<table border=\"1\" class=\"dataframe\">\n",
       "  <thead>\n",
       "    <tr style=\"text-align: right;\">\n",
       "      <th></th>\n",
       "      <th>Daily Time Spent on Site</th>\n",
       "      <th>Age</th>\n",
       "      <th>Area Income</th>\n",
       "      <th>Daily Internet Usage</th>\n",
       "      <th>Clicked on Ad</th>\n",
       "    </tr>\n",
       "  </thead>\n",
       "  <tbody>\n",
       "    <tr>\n",
       "      <th>0</th>\n",
       "      <td>68.95</td>\n",
       "      <td>35</td>\n",
       "      <td>432837300.0</td>\n",
       "      <td>256.09</td>\n",
       "      <td>0</td>\n",
       "    </tr>\n",
       "  </tbody>\n",
       "</table>\n",
       "</div>"
      ],
      "text/plain": [
       "   Daily Time Spent on Site  Age  Area Income  Daily Internet Usage  \\\n",
       "0                     68.95   35  432837300.0                256.09   \n",
       "\n",
       "   Clicked on Ad  \n",
       "0              0  "
      ]
     },
     "execution_count": 68,
     "metadata": {},
     "output_type": "execute_result"
    }
   ],
   "source": [
    "df2 = df.filter(['Daily Time Spent on Site', 'Age', 'Area Income',\n",
    "                 'Daily Internet Usage', 'Clicked on Ad'])\n",
    "df2.head(1)"
   ]
  },
  {
   "cell_type": "markdown",
   "id": "5ea5a923",
   "metadata": {},
   "source": [
    "### Daily Time Spent on Site"
   ]
  },
  {
   "cell_type": "code",
   "execution_count": 69,
   "id": "24e3a188",
   "metadata": {},
   "outputs": [
    {
     "data": {
      "text/plain": [
       "(11.333750000000016,\n",
       " 32.6,\n",
       " 51.545,\n",
       " 68.11,\n",
       " 78.35249999999999,\n",
       " 118.56374999999997,\n",
       " 91.43)"
      ]
     },
     "execution_count": 69,
     "metadata": {},
     "output_type": "execute_result"
    }
   ],
   "source": [
    "q1 = df2['Daily Time Spent on Site'].quantile(0.25)\n",
    "q3 = df2['Daily Time Spent on Site'].quantile(0.75)\n",
    "q2 = df2['Daily Time Spent on Site'].quantile(0.5)\n",
    "iqr = q3 - q1\n",
    "low_lim = q1 - 1.5*iqr\n",
    "up_lim = q3 + 1.5*iqr\n",
    "min = df2['Daily Time Spent on Site'].min()\n",
    "max = df2['Daily Time Spent on Site'].max()  \n",
    "\n",
    "low_lim, min, q1, q2, q3, up_lim, max"
   ]
  },
  {
   "cell_type": "code",
   "execution_count": 70,
   "id": "1b710ab5",
   "metadata": {},
   "outputs": [],
   "source": [
    "# bin Daily Time Spent on Site based on quantiles\n",
    "group_names = ['32 - 52','53 - 68','69 - 78','79 - 91']\n",
    "df2['Daily Time Spent Group'] = pd.cut(df2['Daily Time Spent on Site'], \n",
    "                                     [min, q1, q2, q3, max], \n",
    "                                     labels=group_names)"
   ]
  },
  {
   "cell_type": "code",
   "execution_count": 71,
   "id": "2e7b9aa0",
   "metadata": {},
   "outputs": [
    {
     "data": {
      "text/html": [
       "<div>\n",
       "<style scoped>\n",
       "    .dataframe tbody tr th:only-of-type {\n",
       "        vertical-align: middle;\n",
       "    }\n",
       "\n",
       "    .dataframe tbody tr th {\n",
       "        vertical-align: top;\n",
       "    }\n",
       "\n",
       "    .dataframe thead th {\n",
       "        text-align: right;\n",
       "    }\n",
       "</style>\n",
       "<table border=\"1\" class=\"dataframe\">\n",
       "  <thead>\n",
       "    <tr style=\"text-align: right;\">\n",
       "      <th></th>\n",
       "      <th>Daily Time Spent Group</th>\n",
       "      <th>is_not_clicked</th>\n",
       "      <th>is_clicked</th>\n",
       "      <th>% clicked</th>\n",
       "    </tr>\n",
       "  </thead>\n",
       "  <tbody>\n",
       "    <tr>\n",
       "      <th>0</th>\n",
       "      <td>32 - 52</td>\n",
       "      <td>2</td>\n",
       "      <td>246</td>\n",
       "      <td>99.19</td>\n",
       "    </tr>\n",
       "    <tr>\n",
       "      <th>1</th>\n",
       "      <td>53 - 68</td>\n",
       "      <td>71</td>\n",
       "      <td>186</td>\n",
       "      <td>72.37</td>\n",
       "    </tr>\n",
       "    <tr>\n",
       "      <th>2</th>\n",
       "      <td>69 - 78</td>\n",
       "      <td>199</td>\n",
       "      <td>44</td>\n",
       "      <td>18.11</td>\n",
       "    </tr>\n",
       "    <tr>\n",
       "      <th>3</th>\n",
       "      <td>79 - 91</td>\n",
       "      <td>228</td>\n",
       "      <td>22</td>\n",
       "      <td>8.80</td>\n",
       "    </tr>\n",
       "  </tbody>\n",
       "</table>\n",
       "</div>"
      ],
      "text/plain": [
       "  Daily Time Spent Group  is_not_clicked  is_clicked  % clicked\n",
       "0                32 - 52               2         246      99.19\n",
       "1                53 - 68              71         186      72.37\n",
       "2                69 - 78             199          44      18.11\n",
       "3                79 - 91             228          22       8.80"
      ]
     },
     "execution_count": 71,
     "metadata": {},
     "output_type": "execute_result"
    }
   ],
   "source": [
    "data_grouped = df2.groupby(['Clicked on Ad', 'Daily Time Spent Group'])['Daily Time Spent on Site'].count().reset_index()\n",
    "click_pct = pd.pivot_table(data_grouped,\n",
    "                            index=['Daily Time Spent Group'],\n",
    "                            columns='Clicked on Ad',\n",
    "                            values='Daily Time Spent on Site').reset_index()\n",
    "click_pct.columns = ['Daily Time Spent Group', 'is_not_clicked', 'is_clicked']\n",
    "click_pct['% clicked'] = round(click_pct['is_clicked'] / (click_pct['is_not_clicked'] + click_pct['is_clicked'])*100,2)\n",
    "click_pct"
   ]
  },
  {
   "cell_type": "code",
   "execution_count": 72,
   "id": "f6644f53",
   "metadata": {},
   "outputs": [
    {
     "data": {
      "image/png": "[encoded data removed]",
      "text/plain": [
       "<Figure size 720x432 with 1 Axes>"
      ]
     },
     "metadata": {
      "needs_background": "light"
     },
     "output_type": "display_data"
    }
   ],
   "source": [
    "plt.figure(figsize=(10,6))\n",
    "ax = sns.barplot(x='Daily Time Spent Group', \n",
    "                 y='% clicked', \n",
    "                 data=click_pct,\n",
    "                 palette='gist_earth')\n",
    "plt.ylim(0,100)\n",
    "plt.xlabel('Daily Time Spent Group by Quantiles (Mins)', labelpad=9, fontsize=12)\n",
    "plt.ylabel('Percentage of Ads Clicks (%)', labelpad=7, fontsize=12)\n",
    "plt.bar_label(ax.containers[0], \n",
    "              label_type='center',\n",
    "              color='white', \n",
    "              fontweight='bold',\n",
    "              fontsize=13)\n",
    "\n",
    "plt.title('The longer the daily time spent on site, the ads tend to be ignored by users', fontsize=13.5,\n",
    "         fontweight='bold',loc='center', pad=12)\n",
    "\n",
    "plt.tight_layout()\n",
    "#plt.savefig('Daily Time Spent Group on Percentage of Ads Clicks.png')"
   ]
  },
  {
   "cell_type": "markdown",
   "id": "105f52d0",
   "metadata": {},
   "source": [
    "### Daily Internet Usage"
   ]
  },
  {
   "cell_type": "code",
   "execution_count": 73,
   "id": "fc05fae3",
   "metadata": {},
   "outputs": [
    {
     "data": {
      "text/plain": [
       "(20.11250000000004, 104.78, 139.0175, 182.65, 218.2875, 337.1925, 267.01)"
      ]
     },
     "execution_count": 73,
     "metadata": {},
     "output_type": "execute_result"
    }
   ],
   "source": [
    "q1 = df2['Daily Internet Usage'].quantile(0.25)\n",
    "q3 = df2['Daily Internet Usage'].quantile(0.75)\n",
    "q2 = df2['Daily Internet Usage'].quantile(0.5)\n",
    "iqr = q3 - q1\n",
    "low_lim = q1 - 1.5*iqr\n",
    "up_lim = q3 + 1.5*iqr\n",
    "min = df2['Daily Internet Usage'].min()\n",
    "max = df2['Daily Internet Usage'].max() \n",
    "\n",
    "low_lim, min, q1, q2, q3, up_lim, max"
   ]
  },
  {
   "cell_type": "code",
   "execution_count": 74,
   "id": "d8797a56",
   "metadata": {},
   "outputs": [],
   "source": [
    "# bin Age based on quantiles\n",
    "group_names = ['105 - 139','140 - 183','184 - 218','219 - 267']\n",
    "df2['Daily Internet Usage Group'] = pd.cut(df2['Daily Internet Usage'], \n",
    "                                            [min, q1, q2, q3, max], \n",
    "                                            labels=group_names)"
   ]
  },
  {
   "cell_type": "code",
   "execution_count": 75,
   "id": "eba396dd",
   "metadata": {},
   "outputs": [
    {
     "data": {
      "text/html": [
       "<div>\n",
       "<style scoped>\n",
       "    .dataframe tbody tr th:only-of-type {\n",
       "        vertical-align: middle;\n",
       "    }\n",
       "\n",
       "    .dataframe tbody tr th {\n",
       "        vertical-align: top;\n",
       "    }\n",
       "\n",
       "    .dataframe thead th {\n",
       "        text-align: right;\n",
       "    }\n",
       "</style>\n",
       "<table border=\"1\" class=\"dataframe\">\n",
       "  <thead>\n",
       "    <tr style=\"text-align: right;\">\n",
       "      <th></th>\n",
       "      <th>Daily Internet Usage Group</th>\n",
       "      <th>is_not_clicked</th>\n",
       "      <th>is_clicked</th>\n",
       "      <th>% clicked</th>\n",
       "    </tr>\n",
       "  </thead>\n",
       "  <tbody>\n",
       "    <tr>\n",
       "      <th>0</th>\n",
       "      <td>105 - 139</td>\n",
       "      <td>0</td>\n",
       "      <td>249</td>\n",
       "      <td>100.00</td>\n",
       "    </tr>\n",
       "    <tr>\n",
       "      <th>1</th>\n",
       "      <td>140 - 183</td>\n",
       "      <td>57</td>\n",
       "      <td>199</td>\n",
       "      <td>77.73</td>\n",
       "    </tr>\n",
       "    <tr>\n",
       "      <th>2</th>\n",
       "      <td>184 - 218</td>\n",
       "      <td>207</td>\n",
       "      <td>37</td>\n",
       "      <td>15.16</td>\n",
       "    </tr>\n",
       "    <tr>\n",
       "      <th>3</th>\n",
       "      <td>219 - 267</td>\n",
       "      <td>236</td>\n",
       "      <td>14</td>\n",
       "      <td>5.60</td>\n",
       "    </tr>\n",
       "  </tbody>\n",
       "</table>\n",
       "</div>"
      ],
      "text/plain": [
       "  Daily Internet Usage Group  is_not_clicked  is_clicked  % clicked\n",
       "0                  105 - 139               0         249     100.00\n",
       "1                  140 - 183              57         199      77.73\n",
       "2                  184 - 218             207          37      15.16\n",
       "3                  219 - 267             236          14       5.60"
      ]
     },
     "execution_count": 75,
     "metadata": {},
     "output_type": "execute_result"
    }
   ],
   "source": [
    "data_grouped = df2.groupby(['Clicked on Ad', 'Daily Internet Usage Group'])['Daily Time Spent on Site'].count().reset_index()\n",
    "click_pct = pd.pivot_table(data_grouped,\n",
    "                            index=['Daily Internet Usage Group'],\n",
    "                            columns='Clicked on Ad',\n",
    "                            values='Daily Time Spent on Site').reset_index()\n",
    "click_pct.columns = ['Daily Internet Usage Group', 'is_not_clicked', 'is_clicked']\n",
    "click_pct['% clicked'] = round(click_pct['is_clicked'] / (click_pct['is_not_clicked'] + click_pct['is_clicked'])*100,2)\n",
    "click_pct"
   ]
  },
  {
   "cell_type": "code",
   "execution_count": 76,
   "id": "fec5813b",
   "metadata": {},
   "outputs": [
    {
     "data": {
      "image/png": "[encoded data removed]",
      "text/plain": [
       "<Figure size 720x432 with 1 Axes>"
      ]
     },
     "metadata": {
      "needs_background": "light"
     },
     "output_type": "display_data"
    }
   ],
   "source": [
    "plt.figure(figsize=(10,6))\n",
    "ax = sns.barplot(x='Daily Internet Usage Group', \n",
    "                 y='% clicked', \n",
    "                 data=click_pct,\n",
    "                 palette='gist_earth')\n",
    "plt.ylim(0,100)\n",
    "plt.xlabel('Daily Internet Usage Group by Quantiles (Mins)', labelpad=9, fontsize=12)\n",
    "plt.ylabel('Percentage of Ads Clicks (%)', labelpad=7, fontsize=12)\n",
    "plt.bar_label(ax.containers[0], \n",
    "              label_type='center',\n",
    "              color='white', \n",
    "              fontweight='bold',\n",
    "              fontsize=13)\n",
    "\n",
    "plt.title('The longer the daily internet usage, the ads tend to be ignored by users', fontsize=13.5,\n",
    "         fontweight='bold',loc='center', pad=12)\n",
    "\n",
    "plt.tight_layout()\n",
    "#plt.savefig('Daily Internet Usage Group on Percentage of Ads Clicks.png')"
   ]
  },
  {
   "cell_type": "markdown",
   "id": "d90eb050",
   "metadata": {},
   "source": [
    "### Area Income"
   ]
  },
  {
   "cell_type": "code",
   "execution_count": 77,
   "id": "d0c4f3b2",
   "metadata": {},
   "outputs": [
    {
     "data": {
      "text/plain": [
       "(139510525.0,\n",
       " 97975500.0,\n",
       " 329820137.5,\n",
       " 399068320.0,\n",
       " 456693212.5,\n",
       " 647002825.0,\n",
       " 556393600.0)"
      ]
     },
     "execution_count": 77,
     "metadata": {},
     "output_type": "execute_result"
    }
   ],
   "source": [
    "q1 = df2['Area Income'].quantile(0.25)\n",
    "q3 = df2['Area Income'].quantile(0.75)\n",
    "q2 = df2['Area Income'].quantile(0.5)\n",
    "iqr = q3 - q1\n",
    "low_lim = q1 - 1.5*iqr\n",
    "up_lim = q3 + 1.5*iqr\n",
    "min = df2['Area Income'].min()\n",
    "max = df2['Area Income'].max() \n",
    "\n",
    "low_lim, min, q1, q2, q3, up_lim, max"
   ]
  },
  {
   "cell_type": "code",
   "execution_count": 78,
   "id": "b8511cff",
   "metadata": {},
   "outputs": [],
   "source": [
    "# bin Age based on quantiles\n",
    "group_names = ['98 - 330','331 - 399','400 - 457','458 - 556']\n",
    "df2['Area Income Group'] = pd.cut(df2['Area Income'], \n",
    "                          [min, q1, q2, q3, max], \n",
    "                          labels=group_names)"
   ]
  },
  {
   "cell_type": "code",
   "execution_count": 79,
   "id": "86dfb8dd",
   "metadata": {},
   "outputs": [
    {
     "data": {
      "text/html": [
       "<div>\n",
       "<style scoped>\n",
       "    .dataframe tbody tr th:only-of-type {\n",
       "        vertical-align: middle;\n",
       "    }\n",
       "\n",
       "    .dataframe tbody tr th {\n",
       "        vertical-align: top;\n",
       "    }\n",
       "\n",
       "    .dataframe thead th {\n",
       "        text-align: right;\n",
       "    }\n",
       "</style>\n",
       "<table border=\"1\" class=\"dataframe\">\n",
       "  <thead>\n",
       "    <tr style=\"text-align: right;\">\n",
       "      <th></th>\n",
       "      <th>Area Income Group</th>\n",
       "      <th>is_not_clicked</th>\n",
       "      <th>is_clicked</th>\n",
       "      <th>% clicked</th>\n",
       "    </tr>\n",
       "  </thead>\n",
       "  <tbody>\n",
       "    <tr>\n",
       "      <th>0</th>\n",
       "      <td>98 - 330</td>\n",
       "      <td>36</td>\n",
       "      <td>213</td>\n",
       "      <td>85.54</td>\n",
       "    </tr>\n",
       "    <tr>\n",
       "      <th>1</th>\n",
       "      <td>331 - 399</td>\n",
       "      <td>115</td>\n",
       "      <td>142</td>\n",
       "      <td>55.25</td>\n",
       "    </tr>\n",
       "    <tr>\n",
       "      <th>2</th>\n",
       "      <td>400 - 457</td>\n",
       "      <td>166</td>\n",
       "      <td>77</td>\n",
       "      <td>31.69</td>\n",
       "    </tr>\n",
       "    <tr>\n",
       "      <th>3</th>\n",
       "      <td>458 - 556</td>\n",
       "      <td>183</td>\n",
       "      <td>67</td>\n",
       "      <td>26.80</td>\n",
       "    </tr>\n",
       "  </tbody>\n",
       "</table>\n",
       "</div>"
      ],
      "text/plain": [
       "  Area Income Group  is_not_clicked  is_clicked  % clicked\n",
       "0          98 - 330              36         213      85.54\n",
       "1         331 - 399             115         142      55.25\n",
       "2         400 - 457             166          77      31.69\n",
       "3         458 - 556             183          67      26.80"
      ]
     },
     "execution_count": 79,
     "metadata": {},
     "output_type": "execute_result"
    }
   ],
   "source": [
    "data_grouped = df2.groupby(['Clicked on Ad', 'Area Income Group'])['Daily Time Spent on Site'].count().reset_index()\n",
    "click_pct = pd.pivot_table(data_grouped,\n",
    "                            index=['Area Income Group'],\n",
    "                            columns='Clicked on Ad',\n",
    "                            values='Daily Time Spent on Site').reset_index()\n",
    "click_pct.columns = ['Area Income Group', 'is_not_clicked', 'is_clicked']\n",
    "click_pct['% clicked'] = round(click_pct['is_clicked'] / (click_pct['is_not_clicked'] + click_pct['is_clicked'])*100,2)\n",
    "click_pct"
   ]
  },
  {
   "cell_type": "code",
   "execution_count": 80,
   "id": "e09dd9e1",
   "metadata": {},
   "outputs": [
    {
     "data": {
      "image/png": "[encoded data removed]",
      "text/plain": [
       "<Figure size 720x432 with 1 Axes>"
      ]
     },
     "metadata": {
      "needs_background": "light"
     },
     "output_type": "display_data"
    }
   ],
   "source": [
    "plt.figure(figsize=(10,6))\n",
    "ax = sns.barplot(x='Area Income Group', \n",
    "                 y='% clicked', \n",
    "                 data=click_pct,\n",
    "                 palette='gist_earth')\n",
    "plt.ylim(0,100)\n",
    "plt.xlabel('Area Income Group by Quantiles (Millions)', labelpad=9, fontsize=12)\n",
    "plt.ylabel('Percentage of Ads Clicks (%)', labelpad=7, fontsize=12)\n",
    "plt.bar_label(ax.containers[0], \n",
    "              label_type='center',\n",
    "              color='white', \n",
    "              fontweight='bold',\n",
    "              fontsize=13)\n",
    "\n",
    "plt.title('The higher area income, the ads tend to be ignored by users', fontsize=13.5,\n",
    "         fontweight='bold',loc='center', pad=12)\n",
    "\n",
    "plt.tight_layout()\n",
    "#plt.savefig('Area Income Group on Percentage of Ads Clicks.png')"
   ]
  },
  {
   "cell_type": "markdown",
   "id": "785a443b",
   "metadata": {},
   "source": [
    "### Age"
   ]
  },
  {
   "cell_type": "code",
   "execution_count": 81,
   "id": "1e187ba0",
   "metadata": {},
   "outputs": [
    {
     "data": {
      "text/plain": [
       "(9.5, 19, 29.0, 35.0, 42.0, 61.5, 61)"
      ]
     },
     "execution_count": 81,
     "metadata": {},
     "output_type": "execute_result"
    }
   ],
   "source": [
    "q1 = df2['Age'].quantile(0.25)\n",
    "q3 = df2['Age'].quantile(0.75)\n",
    "q2 = df2['Age'].quantile(0.5)\n",
    "iqr = q3 - q1\n",
    "low_lim = q1 - 1.5*iqr\n",
    "up_lim = q3 + 1.5*iqr\n",
    "min = df2['Age'].min()\n",
    "max = df2['Age'].max() \n",
    "\n",
    "low_lim, min, q1, q2, q3, up_lim, max"
   ]
  },
  {
   "cell_type": "code",
   "execution_count": 82,
   "id": "b2d9ed71",
   "metadata": {},
   "outputs": [],
   "source": [
    "# bin Age based on quantiles\n",
    "group_names = ['19 - 29','30 - 35','36 - 42','43 - 61']\n",
    "df2['Age Group'] = pd.cut(df2['Age'], \n",
    "                          [min, q1, q2, q3, max], \n",
    "                          labels=group_names)"
   ]
  },
  {
   "cell_type": "code",
   "execution_count": 83,
   "id": "d369429d",
   "metadata": {},
   "outputs": [
    {
     "data": {
      "text/html": [
       "<div>\n",
       "<style scoped>\n",
       "    .dataframe tbody tr th:only-of-type {\n",
       "        vertical-align: middle;\n",
       "    }\n",
       "\n",
       "    .dataframe tbody tr th {\n",
       "        vertical-align: top;\n",
       "    }\n",
       "\n",
       "    .dataframe thead th {\n",
       "        text-align: right;\n",
       "    }\n",
       "</style>\n",
       "<table border=\"1\" class=\"dataframe\">\n",
       "  <thead>\n",
       "    <tr style=\"text-align: right;\">\n",
       "      <th></th>\n",
       "      <th>Age Group</th>\n",
       "      <th>is_not_clicked</th>\n",
       "      <th>is_clicked</th>\n",
       "      <th>% clicked</th>\n",
       "    </tr>\n",
       "  </thead>\n",
       "  <tbody>\n",
       "    <tr>\n",
       "      <th>0</th>\n",
       "      <td>19 - 29</td>\n",
       "      <td>194</td>\n",
       "      <td>64</td>\n",
       "      <td>24.81</td>\n",
       "    </tr>\n",
       "    <tr>\n",
       "      <th>1</th>\n",
       "      <td>30 - 35</td>\n",
       "      <td>171</td>\n",
       "      <td>87</td>\n",
       "      <td>33.72</td>\n",
       "    </tr>\n",
       "    <tr>\n",
       "      <th>2</th>\n",
       "      <td>36 - 42</td>\n",
       "      <td>104</td>\n",
       "      <td>143</td>\n",
       "      <td>57.89</td>\n",
       "    </tr>\n",
       "    <tr>\n",
       "      <th>3</th>\n",
       "      <td>43 - 61</td>\n",
       "      <td>26</td>\n",
       "      <td>205</td>\n",
       "      <td>88.74</td>\n",
       "    </tr>\n",
       "  </tbody>\n",
       "</table>\n",
       "</div>"
      ],
      "text/plain": [
       "  Age Group  is_not_clicked  is_clicked  % clicked\n",
       "0   19 - 29             194          64      24.81\n",
       "1   30 - 35             171          87      33.72\n",
       "2   36 - 42             104         143      57.89\n",
       "3   43 - 61              26         205      88.74"
      ]
     },
     "execution_count": 83,
     "metadata": {},
     "output_type": "execute_result"
    }
   ],
   "source": [
    "data_grouped = df2.groupby(['Clicked on Ad', 'Age Group'])['Daily Time Spent on Site'].count().reset_index()\n",
    "click_pct = pd.pivot_table(data_grouped,\n",
    "                            index=['Age Group'],\n",
    "                            columns='Clicked on Ad',\n",
    "                            values='Daily Time Spent on Site').reset_index()\n",
    "click_pct.columns = ['Age Group', 'is_not_clicked', 'is_clicked']\n",
    "click_pct['% clicked'] = round(click_pct['is_clicked'] / (click_pct['is_not_clicked'] + click_pct['is_clicked'])*100,2)\n",
    "click_pct"
   ]
  },
  {
   "cell_type": "code",
   "execution_count": 84,
   "id": "f4883f12",
   "metadata": {},
   "outputs": [
    {
     "data": {
      "image/png": "[encoded data removed]",
      "text/plain": [
       "<Figure size 720x432 with 1 Axes>"
      ]
     },
     "metadata": {
      "needs_background": "light"
     },
     "output_type": "display_data"
    }
   ],
   "source": [
    "plt.figure(figsize=(10,6))\n",
    "ax = sns.barplot(x='Age Group', \n",
    "                 y='% clicked', \n",
    "                 data=click_pct,\n",
    "                 palette='gist_earth')\n",
    "plt.ylim(0,100)\n",
    "plt.xlabel('Age Group by Quantiles (Years)', labelpad=9, fontsize=12)\n",
    "plt.ylabel('Percentage of Ads Clicks (%)', labelpad=7, fontsize=12)\n",
    "plt.bar_label(ax.containers[0], \n",
    "              label_type='center',\n",
    "              color='white', \n",
    "              fontweight='bold',\n",
    "              fontsize=13)\n",
    "\n",
    "plt.title('The older users, they more likely to click the ads', fontsize=13.5,\n",
    "         fontweight='bold',loc='center', pad=12)\n",
    "\n",
    "plt.tight_layout()\n",
    "#plt.savefig('Age Group on Percentage of Ads Clicks.png')"
   ]
  },
  {
   "cell_type": "code",
   "execution_count": 85,
   "id": "313cc8b6",
   "metadata": {},
   "outputs": [
    {
     "data": {
      "text/html": [
       "<div>\n",
       "<style scoped>\n",
       "    .dataframe tbody tr th:only-of-type {\n",
       "        vertical-align: middle;\n",
       "    }\n",
       "\n",
       "    .dataframe tbody tr th {\n",
       "        vertical-align: top;\n",
       "    }\n",
       "\n",
       "    .dataframe thead th {\n",
       "        text-align: right;\n",
       "    }\n",
       "</style>\n",
       "<table border=\"1\" class=\"dataframe\">\n",
       "  <thead>\n",
       "    <tr style=\"text-align: right;\">\n",
       "      <th></th>\n",
       "      <th>Daily Time Spent on Site</th>\n",
       "      <th>Age</th>\n",
       "      <th>Area Income</th>\n",
       "      <th>Daily Internet Usage</th>\n",
       "      <th>Clicked on Ad</th>\n",
       "      <th>Daily Time Spent Group</th>\n",
       "      <th>Daily Internet Usage Group</th>\n",
       "      <th>Area Income Group</th>\n",
       "      <th>Age Group</th>\n",
       "    </tr>\n",
       "  </thead>\n",
       "  <tbody>\n",
       "    <tr>\n",
       "      <th>405</th>\n",
       "      <td>81.58</td>\n",
       "      <td>41</td>\n",
       "      <td>388357340.0</td>\n",
       "      <td>248.16</td>\n",
       "      <td>0</td>\n",
       "      <td>79 - 91</td>\n",
       "      <td>219 - 267</td>\n",
       "      <td>331 - 399</td>\n",
       "      <td>36 - 42</td>\n",
       "    </tr>\n",
       "  </tbody>\n",
       "</table>\n",
       "</div>"
      ],
      "text/plain": [
       "     Daily Time Spent on Site  Age  Area Income  Daily Internet Usage  \\\n",
       "405                     81.58   41  388357340.0                248.16   \n",
       "\n",
       "     Clicked on Ad Daily Time Spent Group Daily Internet Usage Group  \\\n",
       "405              0                79 - 91                  219 - 267   \n",
       "\n",
       "    Area Income Group Age Group  \n",
       "405         331 - 399   36 - 42  "
      ]
     },
     "execution_count": 85,
     "metadata": {},
     "output_type": "execute_result"
    }
   ],
   "source": [
    "df2.sample(1)"
   ]
  },
  {
   "cell_type": "code",
   "execution_count": 110,
   "id": "f1912a0e",
   "metadata": {},
   "outputs": [
    {
     "data": {
      "image/png": "[encoded data removed]",
      "text/plain": [
       "<Figure size 720x360 with 1 Axes>"
      ]
     },
     "metadata": {
      "needs_background": "light"
     },
     "output_type": "display_data"
    }
   ],
   "source": [
    "plt.figure(figsize=(10,5))\n",
    "sns.countplot(x='Age Group',\n",
    "              hue='Daily Time Spent Group',\n",
    "              data=df2[df2['Clicked on Ad']==1], \n",
    "              palette='gist_earth')\n",
    "ngklik iklan Kesehatan\\nSedangkan user yang berusia pra-pensiun paling banyak mnegklik iklan Otomotif')\n",
    "plt.ylabel('Count')\n",
    "plt.legend(title='Daily Time Spent Group', loc='upper left')\n",
    "plt.show()"
   ]
  },
  {
   "cell_type": "code",
   "execution_count": 93,
   "id": "cce1bf59",
   "metadata": {},
   "outputs": [
    {
     "data": {
      "image/png": "[encoded data removed]",
      "text/plain": [
       "<Figure size 720x360 with 1 Axes>"
      ]
     },
     "metadata": {
      "needs_background": "light"
     },
     "output_type": "display_data"
    }
   ],
   "source": [
    "plt.figure(figsize=(10,5))\n",
    "sns.countplot(x='Age Group', \n",
    "              hue='Area Income Group',\n",
    "              data=df2[df2['Clicked on Ad']==0], \n",
    "              palette='gist_earth')\n",
    "\n",
    "plt.ylabel('Count')\n",
    "plt.legend(title='Area Income Group', bbox_to_anchor=(1,1))\n",
    "plt.show()"
   ]
  },
  {
   "cell_type": "code",
   "execution_count": 105,
   "id": "7dff0413",
   "metadata": {},
   "outputs": [
    {
     "data": {
      "text/plain": [
       "<Figure size 720x360 with 0 Axes>"
      ]
     },
     "metadata": {},
     "output_type": "display_data"
    },
    {
     "data": {
      "image/png": "[encoded data removed]",
      "text/plain": [
       "<Figure size 846.375x360 with 2 Axes>"
      ]
     },
     "metadata": {
      "needs_background": "light"
     },
     "output_type": "display_data"
    }
   ],
   "source": [
    "plt.figure(figsize=(10,5))\n",
    "fig = sns.catplot(x = 'Age Group',\n",
    "            y = 'Area Income', \n",
    "            hue = 'Daily Time Spent Group', \n",
    "            col = 'Clicked on Ad', \n",
    "            kind = 'bar', palette = 'Blues_r',\n",
    "            data = df2)\n",
    "fig.set_xticklabels(rotation=0, horizontalalignment='center')\n",
    "plt.show()"
   ]
  },
  {
   "cell_type": "code",
   "execution_count": 106,
   "id": "f6d2c5da",
   "metadata": {},
   "outputs": [
    {
     "data": {
      "text/plain": [
       "<Figure size 720x360 with 0 Axes>"
      ]
     },
     "metadata": {},
     "output_type": "display_data"
    },
    {
     "data": {
      "image/png": "[encoded data removed]",
      "text/plain": [
       "<Figure size 864x360 with 2 Axes>"
      ]
     },
     "metadata": {
      "needs_background": "light"
     },
     "output_type": "display_data"
    }
   ],
   "source": [
    "plt.figure(figsize=(10,5))\n",
    "fig = sns.catplot(x = 'Age Group',\n",
    "            y = 'Area Income', \n",
    "            hue = 'Daily Internet Usage Group', \n",
    "            col = 'Clicked on Ad', \n",
    "            kind = 'bar', palette = 'Blues_r',\n",
    "            data = df2)\n",
    "fig.set_xticklabels(rotation=0, horizontalalignment='center')\n",
    "plt.show()"
   ]
  }
 ],
 "metadata": {
  "kernelspec": {
   "display_name": "Python 3 (ipykernel)",
   "language": "python",
   "name": "python3"
  },
  "language_info": {
   "codemirror_mode": {
    "name": "ipython",
    "version": 3
   },
   "file_extension": ".py",
   "mimetype": "text/x-python",
   "name": "python",
   "nbconvert_exporter": "python",
   "pygments_lexer": "ipython3",
   "version": "3.9.7"
  }
 },
 "nbformat": 4,
 "nbformat_minor": 5
}
