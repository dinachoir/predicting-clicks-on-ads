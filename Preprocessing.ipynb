{
 "cells": [
  {
   "cell_type": "markdown",
   "id": "e51fa7d5",
   "metadata": {},
   "source": [
    "# Preprocessing"
   ]
  },
  {
   "cell_type": "code",
   "execution_count": 1,
   "id": "49cec2ac",
   "metadata": {},
   "outputs": [],
   "source": [
    "import pandas as pd\n",
    "import numpy as np \n",
    "import seaborn as sns\n",
    "from sklearn.model_selection import train_test_split\n",
    "from sklearn.feature_selection import f_classif\n",
    "from sklearn import preprocessing\n",
    "import warnings\n",
    "warnings.filterwarnings(\"ignore\")\n",
    "pd.set_option('display.max_columns', None)\n",
    "pd.set_option('display.max_rows', None)"
   ]
  },
  {
   "cell_type": "code",
   "execution_count": 21,
   "id": "10b65982",
   "metadata": {},
   "outputs": [
    {
     "data": {
      "text/html": [
       "<div>\n",
       "<style scoped>\n",
       "    .dataframe tbody tr th:only-of-type {\n",
       "        vertical-align: middle;\n",
       "    }\n",
       "\n",
       "    .dataframe tbody tr th {\n",
       "        vertical-align: top;\n",
       "    }\n",
       "\n",
       "    .dataframe thead th {\n",
       "        text-align: right;\n",
       "    }\n",
       "</style>\n",
       "<table border=\"1\" class=\"dataframe\">\n",
       "  <thead>\n",
       "    <tr style=\"text-align: right;\">\n",
       "      <th></th>\n",
       "      <th>Daily Time Spent on Site</th>\n",
       "      <th>Age</th>\n",
       "      <th>Area Income</th>\n",
       "      <th>Daily Internet Usage</th>\n",
       "      <th>Male</th>\n",
       "      <th>Timestamp</th>\n",
       "      <th>Clicked on Ad</th>\n",
       "      <th>city</th>\n",
       "      <th>province</th>\n",
       "      <th>category</th>\n",
       "      <th>Year</th>\n",
       "      <th>Month</th>\n",
       "      <th>Week</th>\n",
       "      <th>Day</th>\n",
       "      <th>Day_of_Week</th>\n",
       "    </tr>\n",
       "  </thead>\n",
       "  <tbody>\n",
       "    <tr>\n",
       "      <th>551</th>\n",
       "      <td>81.95</td>\n",
       "      <td>31</td>\n",
       "      <td>452890060.0</td>\n",
       "      <td>208.76</td>\n",
       "      <td>Laki-Laki</td>\n",
       "      <td>2016-05-01 21:46:00</td>\n",
       "      <td>No</td>\n",
       "      <td>Surabaya</td>\n",
       "      <td>Jawa Timur</td>\n",
       "      <td>Food</td>\n",
       "      <td>2016</td>\n",
       "      <td>5</td>\n",
       "      <td>17</td>\n",
       "      <td>1</td>\n",
       "      <td>6</td>\n",
       "    </tr>\n",
       "  </tbody>\n",
       "</table>\n",
       "</div>"
      ],
      "text/plain": [
       "     Daily Time Spent on Site  Age  Area Income  Daily Internet Usage  \\\n",
       "551                     81.95   31  452890060.0                208.76   \n",
       "\n",
       "          Male           Timestamp Clicked on Ad      city    province  \\\n",
       "551  Laki-Laki 2016-05-01 21:46:00            No  Surabaya  Jawa Timur   \n",
       "\n",
       "    category  Year  Month  Week  Day  Day_of_Week  \n",
       "551     Food  2016      5    17    1            6  "
      ]
     },
     "execution_count": 21,
     "metadata": {},
     "output_type": "execute_result"
    }
   ],
   "source": [
    "df.sample(1)"
   ]
  },
  {
   "cell_type": "markdown",
   "id": "de02c94b",
   "metadata": {},
   "source": [
    "## Missing Values Handling"
   ]
  },
  {
   "cell_type": "code",
   "execution_count": 18,
   "id": "581c3902",
   "metadata": {},
   "outputs": [
    {
     "data": {
      "text/plain": [
       "Daily Time Spent on Site    1.3\n",
       "Age                         0.0\n",
       "Area Income                 1.3\n",
       "Daily Internet Usage        1.1\n",
       "Male                        0.3\n",
       "Timestamp                   0.0\n",
       "Clicked on Ad               0.0\n",
       "city                        0.0\n",
       "province                    0.0\n",
       "category                    0.0\n",
       "Year                        0.0\n",
       "Month                       0.0\n",
       "Week                        0.0\n",
       "Day                         0.0\n",
       "Day_of_Week                 0.0\n",
       "dtype: float64"
      ]
     },
     "execution_count": 18,
     "metadata": {},
     "output_type": "execute_result"
    }
   ],
   "source": [
    "round(df.isnull().sum()*100/df.shape[0],1)"
   ]
  },
  {
   "cell_type": "code",
   "execution_count": 23,
   "id": "eaa01010",
   "metadata": {},
   "outputs": [
    {
     "data": {
      "text/html": [
       "<div>\n",
       "<style scoped>\n",
       "    .dataframe tbody tr th:only-of-type {\n",
       "        vertical-align: middle;\n",
       "    }\n",
       "\n",
       "    .dataframe tbody tr th {\n",
       "        vertical-align: top;\n",
       "    }\n",
       "\n",
       "    .dataframe thead th {\n",
       "        text-align: right;\n",
       "    }\n",
       "</style>\n",
       "<table border=\"1\" class=\"dataframe\">\n",
       "  <thead>\n",
       "    <tr style=\"text-align: right;\">\n",
       "      <th></th>\n",
       "      <th>mean</th>\n",
       "      <th>50%</th>\n",
       "    </tr>\n",
       "  </thead>\n",
       "  <tbody>\n",
       "    <tr>\n",
       "      <th>Daily Time Spent on Site</th>\n",
       "      <td>6.492952e+01</td>\n",
       "      <td>6.811000e+01</td>\n",
       "    </tr>\n",
       "    <tr>\n",
       "      <th>Age</th>\n",
       "      <td>3.600900e+01</td>\n",
       "      <td>3.500000e+01</td>\n",
       "    </tr>\n",
       "    <tr>\n",
       "      <th>Area Income</th>\n",
       "      <td>3.848647e+08</td>\n",
       "      <td>3.990683e+08</td>\n",
       "    </tr>\n",
       "    <tr>\n",
       "      <th>Daily Internet Usage</th>\n",
       "      <td>1.798636e+02</td>\n",
       "      <td>1.826500e+02</td>\n",
       "    </tr>\n",
       "    <tr>\n",
       "      <th>Month</th>\n",
       "      <td>3.817000e+00</td>\n",
       "      <td>4.000000e+00</td>\n",
       "    </tr>\n",
       "  </tbody>\n",
       "</table>\n",
       "</div>"
      ],
      "text/plain": [
       "                                  mean           50%\n",
       "Daily Time Spent on Site  6.492952e+01  6.811000e+01\n",
       "Age                       3.600900e+01  3.500000e+01\n",
       "Area Income               3.848647e+08  3.990683e+08\n",
       "Daily Internet Usage      1.798636e+02  1.826500e+02\n",
       "Month                     3.817000e+00  4.000000e+00"
      ]
     },
     "execution_count": 23,
     "metadata": {},
     "output_type": "execute_result"
    }
   ],
   "source": [
    "df.describe().transpose()[['mean','50%']]"
   ]
  },
  {
   "cell_type": "code",
   "execution_count": 5,
   "id": "b2a39975",
   "metadata": {},
   "outputs": [],
   "source": [
    "df.fillna(df.median(), inplace=True)\n",
    "df['Male'].fillna(df['Male'].mode()[0], inplace=True)"
   ]
  },
  {
   "cell_type": "markdown",
   "id": "48d40587",
   "metadata": {},
   "source": [
    "## Duplicated Data"
   ]
  },
  {
   "cell_type": "code",
   "execution_count": 29,
   "id": "4484e76a",
   "metadata": {},
   "outputs": [
    {
     "data": {
      "text/plain": [
       "0"
      ]
     },
     "execution_count": 29,
     "metadata": {},
     "output_type": "execute_result"
    }
   ],
   "source": [
    "df.duplicated().sum()"
   ]
  },
  {
   "cell_type": "markdown",
   "id": "4e3ee7f9",
   "metadata": {},
   "source": [
    "## Drop Features\n",
    "\n",
    "* Feature with too many unique values\n",
    "* Feature with 1 unique value\n",
    "* Feature with small variations (mostly distributed only in 2 values)\n",
    "* Unnecessary features"
   ]
  },
  {
   "cell_type": "code",
   "execution_count": 6,
   "id": "1d16a657",
   "metadata": {},
   "outputs": [],
   "source": [
    "df.drop(['Timestamp','city','province','Year', 'Week', 'Day'], axis=1, inplace=True)"
   ]
  },
  {
   "cell_type": "markdown",
   "id": "24bdfad0",
   "metadata": {},
   "source": [
    "## Feature Encoding"
   ]
  },
  {
   "cell_type": "code",
   "execution_count": 7,
   "id": "b33171d4",
   "metadata": {},
   "outputs": [],
   "source": [
    "male_map = {'Perempuan': 0, 'Laki-Laki': 1}\n",
    "click_ads_map = {'No': 0, 'Yes': 1}\n",
    "month_map = {1:'Jan', 2:'Feb', 3:'Mar', 4:'Apr', 5:'May', 6:'Jun', 7:'Jul'}\n",
    "day_week_map = {0:'Mon', 1:'Tue', 2:'Wed', 3:'Thu', 4:'Fri', 5:'Sat', 6:'Sun'}\n",
    "\n",
    "df['Male'] = df['Male'].map(male_map)\n",
    "df['Clicked on Ad'] = df['Clicked on Ad'].map(click_ads_map)\n",
    "df['Month'] = df['Month'].map(month_map)\n",
    "df['Day_of_Week'] = df['Day_of_Week'].map(day_week_map)\n",
    "\n",
    "cols = ['category', 'Month', 'Day_of_Week']\n",
    "df = pd.concat([df, pd.get_dummies(df[cols], prefix_sep = ':')], axis = 1)"
   ]
  },
  {
   "cell_type": "code",
   "execution_count": 8,
   "id": "cd59ef18",
   "metadata": {},
   "outputs": [],
   "source": [
    "df.drop(['category', 'Month', 'Day_of_Week'], axis=1, inplace=True)"
   ]
  },
  {
   "cell_type": "markdown",
   "id": "4284b30f",
   "metadata": {},
   "source": [
    "## Data Splitting"
   ]
  },
  {
   "cell_type": "code",
   "execution_count": 39,
   "id": "ad79963c",
   "metadata": {},
   "outputs": [
    {
     "data": {
      "text/html": [
       "<div>\n",
       "<style scoped>\n",
       "    .dataframe tbody tr th:only-of-type {\n",
       "        vertical-align: middle;\n",
       "    }\n",
       "\n",
       "    .dataframe tbody tr th {\n",
       "        vertical-align: top;\n",
       "    }\n",
       "\n",
       "    .dataframe thead th {\n",
       "        text-align: right;\n",
       "    }\n",
       "</style>\n",
       "<table border=\"1\" class=\"dataframe\">\n",
       "  <thead>\n",
       "    <tr style=\"text-align: right;\">\n",
       "      <th></th>\n",
       "      <th>Daily Time Spent on Site</th>\n",
       "      <th>Age</th>\n",
       "      <th>Area Income</th>\n",
       "      <th>Daily Internet Usage</th>\n",
       "      <th>Male</th>\n",
       "      <th>Clicked on Ad</th>\n",
       "      <th>category:Bank</th>\n",
       "      <th>category:Electronic</th>\n",
       "      <th>category:Fashion</th>\n",
       "      <th>category:Finance</th>\n",
       "      <th>category:Food</th>\n",
       "      <th>category:Furniture</th>\n",
       "      <th>category:Health</th>\n",
       "      <th>category:House</th>\n",
       "      <th>category:Otomotif</th>\n",
       "      <th>category:Travel</th>\n",
       "      <th>Month:Apr</th>\n",
       "      <th>Month:Feb</th>\n",
       "      <th>Month:Jan</th>\n",
       "      <th>Month:Jul</th>\n",
       "      <th>Month:Jun</th>\n",
       "      <th>Month:Mar</th>\n",
       "      <th>Month:May</th>\n",
       "      <th>Day_of_Week:Fri</th>\n",
       "      <th>Day_of_Week:Mon</th>\n",
       "      <th>Day_of_Week:Sat</th>\n",
       "      <th>Day_of_Week:Sun</th>\n",
       "      <th>Day_of_Week:Thu</th>\n",
       "      <th>Day_of_Week:Tue</th>\n",
       "      <th>Day_of_Week:Wed</th>\n",
       "    </tr>\n",
       "  </thead>\n",
       "  <tbody>\n",
       "    <tr>\n",
       "      <th>477</th>\n",
       "      <td>44.96</td>\n",
       "      <td>50</td>\n",
       "      <td>369614000.0</td>\n",
       "      <td>132.71</td>\n",
       "      <td>1</td>\n",
       "      <td>1</td>\n",
       "      <td>0</td>\n",
       "      <td>0</td>\n",
       "      <td>0</td>\n",
       "      <td>0</td>\n",
       "      <td>0</td>\n",
       "      <td>0</td>\n",
       "      <td>0</td>\n",
       "      <td>0</td>\n",
       "      <td>1</td>\n",
       "      <td>0</td>\n",
       "      <td>0</td>\n",
       "      <td>0</td>\n",
       "      <td>1</td>\n",
       "      <td>0</td>\n",
       "      <td>0</td>\n",
       "      <td>0</td>\n",
       "      <td>0</td>\n",
       "      <td>0</td>\n",
       "      <td>0</td>\n",
       "      <td>1</td>\n",
       "      <td>0</td>\n",
       "      <td>0</td>\n",
       "      <td>0</td>\n",
       "      <td>0</td>\n",
       "    </tr>\n",
       "  </tbody>\n",
       "</table>\n",
       "</div>"
      ],
      "text/plain": [
       "     Daily Time Spent on Site  Age  Area Income  Daily Internet Usage  Male  \\\n",
       "477                     44.96   50  369614000.0                132.71     1   \n",
       "\n",
       "     Clicked on Ad  category:Bank  category:Electronic  category:Fashion  \\\n",
       "477              1              0                    0                 0   \n",
       "\n",
       "     category:Finance  category:Food  category:Furniture  category:Health  \\\n",
       "477                 0              0                   0                0   \n",
       "\n",
       "     category:House  category:Otomotif  category:Travel  Month:Apr  Month:Feb  \\\n",
       "477               0                  1                0          0          0   \n",
       "\n",
       "     Month:Jan  Month:Jul  Month:Jun  Month:Mar  Month:May  Day_of_Week:Fri  \\\n",
       "477          1          0          0          0          0                0   \n",
       "\n",
       "     Day_of_Week:Mon  Day_of_Week:Sat  Day_of_Week:Sun  Day_of_Week:Thu  \\\n",
       "477                0                1                0                0   \n",
       "\n",
       "     Day_of_Week:Tue  Day_of_Week:Wed  \n",
       "477                0                0  "
      ]
     },
     "execution_count": 39,
     "metadata": {},
     "output_type": "execute_result"
    }
   ],
   "source": [
    "df.sample(1)"
   ]
  },
  {
   "cell_type": "code",
   "execution_count": 9,
   "id": "2aa87d98",
   "metadata": {},
   "outputs": [],
   "source": [
    "y = df['Clicked on Ad']\n",
    "X = df.drop(['Clicked on Ad'], axis=1)\n",
    "\n",
    "X_train, X_val, y_train, y_val = train_test_split(X, y, \n",
    "                                                  test_size = 0.2, \n",
    "                                                  random_state = 42, \n",
    "                                                  stratify = y)"
   ]
  },
  {
   "cell_type": "markdown",
   "id": "b26b85b6",
   "metadata": {},
   "source": [
    "## Feature Selection"
   ]
  },
  {
   "cell_type": "markdown",
   "id": "3e1814e1",
   "metadata": {},
   "source": [
    "### Numerical Features Significancy Test"
   ]
  },
  {
   "cell_type": "code",
   "execution_count": 41,
   "id": "e1d235f3",
   "metadata": {},
   "outputs": [
    {
     "data": {
      "text/html": [
       "<div>\n",
       "<style scoped>\n",
       "    .dataframe tbody tr th:only-of-type {\n",
       "        vertical-align: middle;\n",
       "    }\n",
       "\n",
       "    .dataframe tbody tr th {\n",
       "        vertical-align: top;\n",
       "    }\n",
       "\n",
       "    .dataframe thead th {\n",
       "        text-align: right;\n",
       "    }\n",
       "</style>\n",
       "<table border=\"1\" class=\"dataframe\">\n",
       "  <thead>\n",
       "    <tr style=\"text-align: right;\">\n",
       "      <th></th>\n",
       "      <th>Feature</th>\n",
       "      <th>F-score</th>\n",
       "      <th>p-value</th>\n",
       "      <th>significance</th>\n",
       "      <th>index</th>\n",
       "      <th>count</th>\n",
       "      <th>mean</th>\n",
       "      <th>std</th>\n",
       "      <th>min</th>\n",
       "      <th>25%</th>\n",
       "      <th>50%</th>\n",
       "      <th>75%</th>\n",
       "      <th>max</th>\n",
       "    </tr>\n",
       "  </thead>\n",
       "  <tbody>\n",
       "    <tr>\n",
       "      <th>2</th>\n",
       "      <td>Daily Internet Usage</td>\n",
       "      <td>1166.118942</td>\n",
       "      <td>0.0</td>\n",
       "      <td>Significant</td>\n",
       "      <td>Daily Internet Usage</td>\n",
       "      <td>800.0</td>\n",
       "      <td>1.803560e+02</td>\n",
       "      <td>4.348803e+01</td>\n",
       "      <td>104.78</td>\n",
       "      <td>1.408150e+02</td>\n",
       "      <td>1.826500e+02</td>\n",
       "      <td>2.188425e+02</td>\n",
       "      <td>2.670100e+02</td>\n",
       "    </tr>\n",
       "    <tr>\n",
       "      <th>1</th>\n",
       "      <td>Daily Time Spent on Site</td>\n",
       "      <td>1020.595048</td>\n",
       "      <td>0.0</td>\n",
       "      <td>Significant</td>\n",
       "      <td>Daily Time Spent on Site</td>\n",
       "      <td>800.0</td>\n",
       "      <td>6.494147e+01</td>\n",
       "      <td>1.573389e+01</td>\n",
       "      <td>32.60</td>\n",
       "      <td>5.165500e+01</td>\n",
       "      <td>6.811000e+01</td>\n",
       "      <td>7.858500e+01</td>\n",
       "      <td>9.143000e+01</td>\n",
       "    </tr>\n",
       "    <tr>\n",
       "      <th>0</th>\n",
       "      <td>Age</td>\n",
       "      <td>237.346766</td>\n",
       "      <td>0.0</td>\n",
       "      <td>Significant</td>\n",
       "      <td>Age</td>\n",
       "      <td>800.0</td>\n",
       "      <td>3.615125e+01</td>\n",
       "      <td>8.727892e+00</td>\n",
       "      <td>19.00</td>\n",
       "      <td>2.900000e+01</td>\n",
       "      <td>3.500000e+01</td>\n",
       "      <td>4.200000e+01</td>\n",
       "      <td>6.100000e+01</td>\n",
       "    </tr>\n",
       "    <tr>\n",
       "      <th>3</th>\n",
       "      <td>Area Income</td>\n",
       "      <td>214.428709</td>\n",
       "      <td>0.0</td>\n",
       "      <td>Significant</td>\n",
       "      <td>Area Income</td>\n",
       "      <td>800.0</td>\n",
       "      <td>3.885016e+08</td>\n",
       "      <td>9.327947e+07</td>\n",
       "      <td>97975500.00</td>\n",
       "      <td>3.347649e+08</td>\n",
       "      <td>3.997429e+08</td>\n",
       "      <td>4.608005e+08</td>\n",
       "      <td>5.563936e+08</td>\n",
       "    </tr>\n",
       "  </tbody>\n",
       "</table>\n",
       "</div>"
      ],
      "text/plain": [
       "                    Feature      F-score  p-value significance  \\\n",
       "2      Daily Internet Usage  1166.118942      0.0  Significant   \n",
       "1  Daily Time Spent on Site  1020.595048      0.0  Significant   \n",
       "0                       Age   237.346766      0.0  Significant   \n",
       "3               Area Income   214.428709      0.0  Significant   \n",
       "\n",
       "                      index  count          mean           std          min  \\\n",
       "2      Daily Internet Usage  800.0  1.803560e+02  4.348803e+01       104.78   \n",
       "1  Daily Time Spent on Site  800.0  6.494147e+01  1.573389e+01        32.60   \n",
       "0                       Age  800.0  3.615125e+01  8.727892e+00        19.00   \n",
       "3               Area Income  800.0  3.885016e+08  9.327947e+07  97975500.00   \n",
       "\n",
       "            25%           50%           75%           max  \n",
       "2  1.408150e+02  1.826500e+02  2.188425e+02  2.670100e+02  \n",
       "1  5.165500e+01  6.811000e+01  7.858500e+01  9.143000e+01  \n",
       "0  2.900000e+01  3.500000e+01  4.200000e+01  6.100000e+01  \n",
       "3  3.347649e+08  3.997429e+08  4.608005e+08  5.563936e+08  "
      ]
     },
     "execution_count": 41,
     "metadata": {},
     "output_type": "execute_result"
    }
   ],
   "source": [
    "num_cols = ['Age','Daily Time Spent on Site','Daily Internet Usage','Area Income']\n",
    "F_statistic, p_value = f_classif(X_train[num_cols], \n",
    "                                 y_train)\n",
    "\n",
    "dict_ = {'Feature': num_cols, \n",
    "        'F-score' : F_statistic,\n",
    "        'p-value' : p_value.round(decimals=6)}\n",
    "\n",
    "anova_table = pd.DataFrame.from_dict(dict_, orient='index').T\n",
    "anova_table['F-score'] = pd.to_numeric(anova_table['F-score'])\n",
    "anova_table['p-value'] = pd.to_numeric(anova_table['p-value'])\n",
    "\n",
    "anova_table['significance'] = anova_table.apply(lambda x: 'Not Significant' if x['p-value'] >= 0.05 else 'Significant', axis=1)\n",
    "anova_table = anova_table.merge(X_train[X_train.columns].describe().T.reset_index(), \n",
    "                                left_on='Feature', \n",
    "                                right_on='index').sort_values(['F-score','count'], \n",
    "                                                              ascending=False)\n",
    "anova_table"
   ]
  }
 ],
 "metadata": {
  "kernelspec": {
   "display_name": "Python 3 (ipykernel)",
   "language": "python",
   "name": "python3"
  },
  "language_info": {
   "codemirror_mode": {
    "name": "ipython",
    "version": 3
   },
   "file_extension": ".py",
   "mimetype": "text/x-python",
   "name": "python",
   "nbconvert_exporter": "python",
   "pygments_lexer": "ipython3",
   "version": "3.9.7"
  }
 },
 "nbformat": 4,
 "nbformat_minor": 5
}
